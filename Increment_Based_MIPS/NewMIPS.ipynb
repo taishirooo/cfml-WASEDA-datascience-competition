{
 "cells": [
  {
   "cell_type": "code",
   "execution_count": 1,
   "metadata": {},
   "outputs": [],
   "source": [
    "import warnings\n",
    "warnings.filterwarnings('ignore')\n",
    "\n",
    "import numpy as np\n",
    "import pandas as pd\n",
    "from pandas import DataFrame\n",
    "from tqdm import tqdm\n",
    "from sklearn.utils import check_random_state\n",
    "import seaborn as sns\n",
    "import matplotlib.pyplot as plt\n",
    "import japanize_matplotlib\n",
    "plt.style.use('ggplot')\n",
    "y_label_dict = {\"se\": \"左図：平均二乗誤差\", \"bias\": \"中図：二乗バイアス\", \"variance\": \"右図：バリアンス\"}\n",
    "\n",
    "from dataset import generate_synthetic_data, calc_true_value\n",
    "from estimators import calc_avg, calc_ips, calc_mips\n",
    "from utils import eps_greedy_policy, aggregate_simulation_results, remove_outliers"
   ]
  },
  {
   "cell_type": "code",
   "execution_count": 2,
   "metadata": {},
   "outputs": [],
   "source": [
    "def calc_mips(\n",
    "    dataset: dict,\n",
    "    pi: np.ndarray,\n",
    "    replace_c: int = 0,\n",
    "    is_estimate_w: bool = False,\n",
    ") -> float:\n",
    "    \"\"\"MIPS推定量を実行する.\"\"\"\n",
    "    num_data = dataset[\"num_data\"]\n",
    "    num_actions, num_clusters = dataset[\"num_actions\"], dataset[\"num_clusters\"]\n",
    "    x, a, c, r = dataset[\"x\"], dataset[\"a\"], copy(dataset[\"c\"]), dataset[\"r\"]\n",
    "    pi_0, phi_a = dataset[\"pi_0\"], copy(dataset[\"phi_a\"])\n",
    "    min_value, max_value = r.min(), r.max()\n",
    "\n",
    "    if replace_c > 0:\n",
    "        c[c >= num_clusters - replace_c] = num_clusters - replace_c - 1\n",
    "        phi_a[phi_a >= num_clusters - replace_c] = num_clusters - replace_c - 1\n",
    "\n",
    "    if is_estimate_w:\n",
    "        x_c = np.c_[x, np.eye(num_clusters)[c]]\n",
    "        pi_a_x_c_model = LogisticRegression(C=5, random_state=12345)\n",
    "        pi_a_x_c_model.fit(x_c, a)\n",
    "\n",
    "        w_x_a_full = pi / pi_0\n",
    "        pi_a_x_c_hat = np.zeros((num_data, num_actions))\n",
    "        pi_a_x_c_hat[:, np.unique(a)] = pi_a_x_c_model.predict_proba(x_c)\n",
    "        w_x_c_hat = (pi_a_x_c_hat * w_x_a_full).sum(1)\n",
    "\n",
    "        return np.clip((w_x_c_hat * r).mean(), min_value, max_value)\n",
    "\n",
    "    else:\n",
    "        pi_0_c = np.zeros((num_data, num_clusters - replace_c))\n",
    "        pi_c = np.zeros((num_data, num_clusters - replace_c))\n",
    "        for c_ in range(num_clusters - replace_c):\n",
    "            pi_0_c[:, c_] = pi_0[:, phi_a == c_].sum(1)\n",
    "            pi_c[:, c_] = pi[:, phi_a == c_].sum(1)\n",
    "\n",
    "        # 周辺重要度重み\n",
    "        w_x_c = pi_c[np.arange(num_data), c] / pi_0_c[np.arange(num_data), c]\n",
    "\n",
    "        return np.clip((w_x_c * r).mean(), min_value, max_value)"
   ]
  },
  {
   "cell_type": "code",
   "execution_count": 3,
   "metadata": {},
   "outputs": [],
   "source": [
    "import numpy as np\n",
    "from sklearn.utils import check_random_state\n",
    "\n",
    "from utils import sample_action_fast, softmax, eps_greedy_policy\n",
    "\n",
    "\n",
    "def generate_synthetic_data(\n",
    "    num_data: int,\n",
    "    theta_g: np.ndarray,\n",
    "    M_g: np.ndarray,\n",
    "    b_g: np.ndarray,\n",
    "    theta_h: np.ndarray,\n",
    "    M_h: np.ndarray,\n",
    "    b_h: np.ndarray,\n",
    "    phi_a: np.ndarray,\n",
    "    lambda_: float = 0.5,\n",
    "    dim_context: int = 5,\n",
    "    num_actions: int = 50,\n",
    "    num_def_actions: int = 0,\n",
    "    num_clusters: int = 3,\n",
    "    beta: float = -3.0,\n",
    "    random_state: int = 12345,\n",
    ") -> dict:\n",
    "    \"\"\"行動特徴量を活用したオフ方策評価におけるログデータを生成する.\"\"\"\n",
    "    random_ = check_random_state(random_state)\n",
    "    x = random_.normal(size=(num_data, dim_context))\n",
    "    one_hot_a, one_hot_c = np.eye(num_actions), np.eye(num_clusters)\n",
    "\n",
    "    # 期待報酬関数を定義する\n",
    "    g_x_c = (\n",
    "        (x - x ** 2) @ theta_g + (x ** 3 + x ** 2 - x) @ M_g @ one_hot_c + b_g\n",
    "    ) / 10\n",
    "    h_x_a = (\n",
    "        (x ** 3 + x ** 2 - x) @ theta_h + (x - x ** 2) @ M_h @ one_hot_a + b_h\n",
    "    ) / 10\n",
    "    q_x_a = (1 - lambda_) * g_x_c[:, phi_a] + lambda_ * h_x_a\n",
    "\n",
    "    # データ収集方策を定義する\n",
    "    pi_0 = softmax(beta * q_x_a)\n",
    "    pi_0[:, :num_def_actions] = 0 #特定の行動の確率を 0 に設定\n",
    "    pi_0 = pi_0 / pi_0.sum(1)[:, np.newaxis]  #pi_0 の確率が適切に合計 1 になるよう調整 \n",
    "    #pi_0 の一部の要素を 0 に変更したため、その影響を補正するための処理。\n",
    "\n",
    "    # 行動や報酬を抽出する\n",
    "    a = sample_action_fast(pi_0, random_state=random_state)\n",
    "    q_x_a_factual = q_x_a[np.arange(num_data), a]\n",
    "    r = random_.normal(q_x_a_factual)\n",
    "\n",
    "    return dict(\n",
    "        num_data=num_data,\n",
    "        num_actions=num_actions,\n",
    "        num_clusters=num_clusters,\n",
    "        x=x,\n",
    "        a=a,\n",
    "        c=phi_a[a],\n",
    "        r=r,\n",
    "        phi_a=phi_a,\n",
    "        pi_0=pi_0,\n",
    "        g_x_c=(1 - lambda_) * g_x_c,\n",
    "        h_x_a=lambda_ * h_x_a,\n",
    "        q_x_a=q_x_a,\n",
    "    )\n",
    "\n",
    "\n",
    "def calc_true_value(\n",
    "    dim_context: int,\n",
    "    num_actions: int,\n",
    "    num_clusters: int,\n",
    "    theta_g: np.ndarray,\n",
    "    M_g: np.ndarray,\n",
    "    b_g: np.ndarray,\n",
    "    phi_a: np.ndarray,\n",
    "    theta_h: np.ndarray,\n",
    "    M_h: np.ndarray,\n",
    "    b_h: np.ndarray,\n",
    "    lambda_: float,\n",
    ") -> float:\n",
    "    \"\"\"評価方策の真の性能を近似する.\"\"\"\n",
    "    test_bandit_data = generate_synthetic_data(\n",
    "        num_data=10000,\n",
    "        dim_context=dim_context,\n",
    "        num_actions=num_actions,\n",
    "        num_clusters=num_clusters,\n",
    "        theta_g=theta_g,\n",
    "        M_g=M_g,\n",
    "        b_g=b_g,\n",
    "        theta_h=theta_h,\n",
    "        M_h=M_h,\n",
    "        b_h=b_h,\n",
    "        lambda_=lambda_,\n",
    "        phi_a=phi_a,\n",
    "    )\n",
    "\n",
    "    q_x_a = test_bandit_data[\"q_x_a\"]\n",
    "    pi = eps_greedy_policy(q_x_a)\n",
    "\n",
    "    return (q_x_a * pi).sum(1).mean()\n"
   ]
  },
  {
   "cell_type": "code",
   "execution_count": null,
   "metadata": {},
   "outputs": [],
   "source": []
  },
  {
   "cell_type": "code",
   "execution_count": 4,
   "metadata": {},
   "outputs": [],
   "source": [
    "## シミュレーション設定\n",
    "num_runs = 5000 # シミュレーションの繰り返し回数\n",
    "dim_context = 5 # 特徴量xの次元\n",
    "num_clusters = 30 # 行動クラスタ数\n",
    "num_data = 500 # ログデータのサイズ\n",
    "beta = -0.2 # データ収集方策のパラメータ\n",
    "lambda_ = 0.0 # クラスタ効果と残差効果の配合率\n",
    "random_state = 12345\n",
    "random_ = check_random_state(random_state)\n",
    "num_actions_list = [250, 500, 1000, 2000, 4000] # 行動数, |A|\n",
    "num_actions = 200"
   ]
  },
  {
   "cell_type": "code",
   "execution_count": 5,
   "metadata": {},
   "outputs": [],
   "source": [
    "theta_g = random_.normal(size=(dim_context, num_clusters))\n",
    "M_g = random_.normal(size=(dim_context, num_clusters))\n",
    "b_g = random_.normal(size=(1, num_clusters))"
   ]
  },
  {
   "cell_type": "code",
   "execution_count": 6,
   "metadata": {},
   "outputs": [],
   "source": [
    "phi_a = random_.choice(num_clusters, size=num_actions)\n",
    "theta_h = random_.normal(size=(dim_context, num_actions))\n",
    "M_h = random_.normal(size=(dim_context, num_actions))\n",
    "b_h = random_.normal(size=(1, num_actions))"
   ]
  },
  {
   "cell_type": "code",
   "execution_count": 7,
   "metadata": {},
   "outputs": [
    {
     "data": {
      "text/plain": [
       "(200,)"
      ]
     },
     "execution_count": 7,
     "metadata": {},
     "output_type": "execute_result"
    }
   ],
   "source": [
    "phi_a.shape"
   ]
  },
  {
   "cell_type": "code",
   "execution_count": 8,
   "metadata": {},
   "outputs": [],
   "source": [
    "offline_logged_data = generate_synthetic_data(\n",
    "            num_data=num_data, lambda_=lambda_, beta=beta,\n",
    "            theta_g=theta_g, M_g=M_g, b_g=b_g, theta_h=theta_h, M_h=M_h, b_h=b_h, phi_a=phi_a,\n",
    "            dim_context=dim_context, num_actions=num_actions, num_clusters=num_clusters, random_state = 12\n",
    "        )"
   ]
  },
  {
   "cell_type": "code",
   "execution_count": 9,
   "metadata": {},
   "outputs": [],
   "source": [
    "random_ = check_random_state(random_state)\n",
    "x = random_.normal(size=(num_data, dim_context))\n",
    "one_hot_a, one_hot_c = np.eye(num_actions), np.eye(num_clusters)\n",
    "\n",
    "# 期待報酬関数を定義する\n",
    "g_x_c = (\n",
    "        (x - x ** 2) @ theta_g + (x ** 3 + x ** 2 - x) @ M_g @ one_hot_c + b_g\n",
    "    ) / 10\n",
    "h_x_a = (\n",
    "        (x ** 3 + x ** 2 - x) @ theta_h + (x - x ** 2) @ M_h @ one_hot_a + b_h\n",
    "    ) / 10\n",
    "q_x_a = (1 - lambda_) * g_x_c[:, phi_a] + lambda_ * h_x_a"
   ]
  },
  {
   "cell_type": "code",
   "execution_count": 10,
   "metadata": {},
   "outputs": [
    {
     "name": "stdout",
     "output_type": "stream",
     "text": [
      "(500, 30)\n",
      "(500, 200)\n"
     ]
    }
   ],
   "source": [
    "print(g_x_c.shape)\n",
    "print(h_x_a.shape)"
   ]
  },
  {
   "cell_type": "code",
   "execution_count": 11,
   "metadata": {},
   "outputs": [
    {
     "name": "stdout",
     "output_type": "stream",
     "text": [
      "[20 13 16 29 24  3 14 19 27 25 11 12 17 21 20 24 23 25 22 21  6 29 11 17\n",
      " 22 13 15 14 16  5 12  1 21  1 22 20 22 28 26 25 13 19 29  5 25 18 16 11\n",
      "  7 14 19  8 25  0  1 11 13 10 25 14 17 26  0  9  7 13 16  7  2 19 23 14\n",
      "  9  1 17 29 15 14  9 16  6 24 22 21  4  1 27 20  8 11 16 19  1  4 13 29\n",
      " 23 25  0 23  8 29 10  2  1 10  7 19 18  0 14 26 12  4 12 29 22 17 28 24\n",
      " 10 24 27 18 15  5 16  0 12  2 27 22 11  1  4  1 18  6 16 20 16 11 19 13\n",
      "  7 18 24  8 24 14  5  4 16  3  9  6  0  3 10 11  5 21  6  7 28  7 24  9\n",
      " 20 12 27  2 24  8 25 29  3  4 13 21 23 17 18 12 27  1 23 24 18 26 17  1\n",
      " 11  9  4 16 14 14 20 25]\n"
     ]
    }
   ],
   "source": [
    "print(phi_a)"
   ]
  },
  {
   "cell_type": "code",
   "execution_count": 12,
   "metadata": {},
   "outputs": [
    {
     "data": {
      "text/plain": [
       "(500, 200)"
      ]
     },
     "execution_count": 12,
     "metadata": {},
     "output_type": "execute_result"
    }
   ],
   "source": [
    "g_x_c[:, phi_a].shape"
   ]
  },
  {
   "cell_type": "code",
   "execution_count": 13,
   "metadata": {},
   "outputs": [
    {
     "name": "stdout",
     "output_type": "stream",
     "text": [
      "[[3 1 2]\n",
      " [6 4 5]]\n"
     ]
    }
   ],
   "source": [
    "a= np.array([[1,2,3],[4,5,6]])\n",
    "b=np.array([2,0,1])\n",
    "print(a[:,b])"
   ]
  },
  {
   "cell_type": "code",
   "execution_count": null,
   "metadata": {},
   "outputs": [],
   "source": []
  },
  {
   "cell_type": "code",
   "execution_count": 14,
   "metadata": {},
   "outputs": [],
   "source": [
    "num_def_actions = 0\n",
    "# データ収集方策を定義する\n",
    "pi_0 = softmax(beta * q_x_a)\n",
    "pi_0[:, :num_def_actions] = 0\n",
    "pi_0 = pi_0 / pi_0.sum(1)[:, np.newaxis]\n",
    "\n",
    "# 行動や報酬を抽出する\n",
    "a = sample_action_fast(pi_0, random_state=random_state)\n",
    "q_x_a_factual = q_x_a[np.arange(num_data), a]\n",
    "r = random_.normal(q_x_a_factual)"
   ]
  },
  {
   "cell_type": "code",
   "execution_count": null,
   "metadata": {},
   "outputs": [],
   "source": []
  },
  {
   "cell_type": "code",
   "execution_count": null,
   "metadata": {},
   "outputs": [],
   "source": []
  },
  {
   "cell_type": "code",
   "execution_count": 15,
   "metadata": {},
   "outputs": [
    {
     "name": "stdout",
     "output_type": "stream",
     "text": [
      "[20 13 16 29 24  3 14 19 27 25 11 12 17 21 20 24 23 25 22 21  6 29 11 17\n",
      " 22 13 15 14 16  5 12  1 21  1 22 20 22 28 26 25 13 19 29  5 25 18 16 11\n",
      "  7 14 19  8 25  0  1 11 13 10 25 14 17 26  0  9  7 13 16  7  2 19 23 14\n",
      "  9  1 17 29 15 14  9 16  6 24 22 21  4  1 27 20  8 11 16 19  1  4 13 29\n",
      " 23 25  0 23  8 29 10  2  1 10  7 19 18  0 14 26 12  4 12 29 22 17 28 24\n",
      " 10 24 27 18 15  5 16  0 12  2 27 22 11  1  4  1 18  6 16 20 16 11 19 13\n",
      "  7 18 24  8 24 14  5  4 16  3  9  6  0  3 10 11  5 21  6  7 28  7 24  9\n",
      " 20 12 27  2 24  8 25 29  3  4 13 21 23 17 18 12 27  1 23 24 18 26 17  1\n",
      " 11  9  4 16 14 14 20 25]\n",
      "(500,)\n"
     ]
    }
   ],
   "source": [
    "print(offline_logged_data[\"phi_a\"])\n",
    "print(offline_logged_data[\"c\"].shape)"
   ]
  },
  {
   "cell_type": "code",
   "execution_count": 16,
   "metadata": {},
   "outputs": [
    {
     "name": "stdout",
     "output_type": "stream",
     "text": [
      "[ 31 143  52 106   2 183 180   6 191  25  54 121 188 170   0 105 111  97\n",
      " 153  31 152   3  26  23  62 133  93 163  58 146 139  65  67 195 124 190\n",
      " 153 165  81  89  79 199  33 192  83  84  92  77  94   7  16 146 127   5\n",
      "  60  44  10 104  83   8 114 161  22  55 129  98 101  92 178 122 120  88\n",
      "  95 177  41 188  14 119   6 133 127 172 187  88 132 184 124  64  64  58\n",
      " 191  80 188 171 137   0 180 183   1 127  76 119 122 120  62  13 160 182\n",
      "  38  41  78  80 177  39  83 129 102  66 155  23  37  80 157  51  21 186\n",
      "  25 121  58 124 131  13  71  67  35   1   2 120  16  62 193 174 182  33\n",
      "  60  47  95 109  80 148 128 131  30 148 129  57  73 197  67  67 123 124\n",
      "   2 116 155 189 140  23  47  83 125  15  78  64 194 193 148 103  32 190\n",
      " 184 176   9 155  20 180 117 197  84 125 155  51 127 164 104  84 106 189\n",
      " 199 134 158 196  28   5 149 123  19 103 101  57  48  35 116  30 142 171\n",
      " 137  52  78 102  67 109 137  60  42 157 155   8 129  25 108  57 165  19\n",
      " 179  68  26  91  17 147  72  65  19  36 103  22  96 186  78  35 161 132\n",
      " 123  24  68  94  75  42  45  28 147  24  63  78   7  30  33 154  47 149\n",
      "  70 132 130  45  83 135 119 121   7 181 177  35  77 181  89  86 143  31\n",
      " 171   2  15  75  40 102  28 128 108 166  53  32 105  43  90  22 119 167\n",
      " 183 190 116 102 158 134  32  85  31 113 101  90 198 179  29 121  95 165\n",
      " 185 165   5 178  32  66  75 163  38  32 198   8  62  81  43  49  20 162\n",
      "  50 126  71   0  46 165  82  17 194 130 130 185 186 175  76  56  95 150\n",
      " 103  74 117 128 195 124  75 187 146  85  91 199 192   1 169  72  80  58\n",
      " 123  34  41  43 112  20  62 161  96 190 142  22  90 105 178 184  10 181\n",
      " 137 115 183  81 134 165 163 113 111 171  40 143 163  23 169  24  10  94\n",
      " 187 189 117 162  49 128  33  50 186 179 148  94 176  33 101 120   7 163\n",
      "  55 184 186 156 165  60  30  74  77 186 164 167 139 159  92 179 193  82\n",
      " 181 142 128 104 188  72  27  11 161 107  45  67 131 149  16 125 121 159\n",
      "  45  32 149  76  24  87 159  68  40 153  12  18   5 160  70  40   0  52\n",
      "  28 174  21 153 103   7  39  68  71  59 128  17  16 107]\n"
     ]
    }
   ],
   "source": [
    "print(offline_logged_data[\"a\"])"
   ]
  },
  {
   "cell_type": "code",
   "execution_count": 17,
   "metadata": {},
   "outputs": [
    {
     "name": "stdout",
     "output_type": "stream",
     "text": [
      "(500,)\n"
     ]
    }
   ],
   "source": [
    "print(offline_logged_data[\"r\"].shape)"
   ]
  },
  {
   "cell_type": "code",
   "execution_count": 18,
   "metadata": {},
   "outputs": [
    {
     "name": "stdout",
     "output_type": "stream",
     "text": [
      "30\n"
     ]
    }
   ],
   "source": [
    "print(offline_logged_data[\"num_clusters\"])"
   ]
  },
  {
   "cell_type": "code",
   "execution_count": 19,
   "metadata": {},
   "outputs": [
    {
     "name": "stdout",
     "output_type": "stream",
     "text": [
      "[ 1 13 25  7 16 12 23 14  1 13  1 24 18 27 20 10 26 25  3  1 16 29 15 17\n",
      "  0  1  4  7 25 24 20 13  7 16 15 17  3  7 24 11 16 25  1 11 21  4  1 14\n",
      " 13 19 23 24  0  3 17 25 11  1 21 27 12 21 11 11  2  0 29  1 13 27 10  8\n",
      " 29  4 19 18 20 24 14  1  0 24 24  8 11 27 15  7  7 25  1  6 18  2  6 20\n",
      " 23 12 13  0 15 24 27 10  0 21  5 18 26 19  9  6  4 25 21  2 10 16  6 17\n",
      " 28  6  3  8 29 23 13 24 25 15 22 21 14  7 20 13 16 10 23  0  9 25 18  1\n",
      " 17 11 29  0  6 24 12 22 12 24  2 10  1 14  7  7 18 15 16 22  6 26 16 17\n",
      " 11 21  5 24  9  7  4  9 24  2 21 17 27  3 25  6  6 23 17 14  4  5  6  8\n",
      "  0 28  1  4  7 26 25  4 10 14 16  3 14 18 21  2 29 10  7 20 22 12 19  2\n",
      "  6 25  9 10  7  0  6 17 29  3  6 27  2 13 18 10  7 21 21  2 15 19 25  8\n",
      "  9 13 21 22  2 11 23 23  9 20 21 11 18 22  2 13 29 29 18 16  8 22  9  9\n",
      " 19 12  1  9 11 14 23 11 27 18 21  1 24 24 19 17  4 20 14 17 11 27 13  1\n",
      "  2 16 24 29 13 10 16 12 18 24  0 21 10  5 16 11 24  9 12 17 22 10 10  4\n",
      " 21  1  1  4 29 16 20 21  5 24 29  7  1  7  3 13 21 16 29  7 26 21 20 27\n",
      "  0 24  5 14  6  6 19 16 14 20 16  7 22 25  4 27 27  1 23 29 15 13 29  5\n",
      "  2 17 17 12 16 15 29 24 24  1 19 25 11 13 12  9  6 25 18 22 19  5 12  6\n",
      "  0 21 23 17 19 11 16 10 13 27 11 17  6 29 12 24  4  7  7  4 26  2 13 13\n",
      "  7 17 12 22 11 13 24 26 17  6 14 12  1 19 23 21 24 13  3  1 29 10 19  7\n",
      " 11 27 23  0  7 17 12 17 14 23 28  9 20 11  1 21  9 22 17 19 12  1 18  9\n",
      " 14 12 21 19 18  7 22 14 23  5 24 11 18 21 14 15 22 20 11  2 13  3 17 22\n",
      "  3  5 23 13 20 25 16 25 29  3  2 19 25  2 14 14 12 25 23 19]\n"
     ]
    }
   ],
   "source": [
    "print(offline_logged_data[\"c\"])"
   ]
  },
  {
   "cell_type": "code",
   "execution_count": 20,
   "metadata": {},
   "outputs": [],
   "source": [
    "from copy import copy\n",
    "from sklearn.linear_model import LogisticRegression"
   ]
  },
  {
   "cell_type": "code",
   "execution_count": 21,
   "metadata": {},
   "outputs": [],
   "source": [
    "def calc_mips(\n",
    "    dataset:dict, \n",
    "    pi:np.ndarray,\n",
    "    replace_c:int = 0,\n",
    "    is_estimate_w: bool = False\n",
    "    ) ->float:\n",
    "    \"\"\"\n",
    "    NEW_MIPS推定量\n",
    "\n",
    "    \"\"\"\n",
    "    num_data = dataset[\"num_data\"]\n",
    "    num_actions, num_clusters = dataset[\"num_actions\"], dataset[\"num_clusters\"]\n",
    "    x, a, c, r = dataset[\"x\"], dataset[\"a\"], copy(dataset[\"c\"]), dataset[\"r\"]\n",
    "    pi_0, phi_a = dataset[\"pi_0\"], copy(dataset[\"phi_a\"])\n",
    "    min_value, max_value = r.min(), r.max()\n",
    "    \n",
    "    if replace_c > 0:\n",
    "        #replace_c個のクラスタをnum_clusters - replace_c - 1に結合\n",
    "        c[c >= num_clusters - replace_c] = num_clusters - replace_c - 1\n",
    "        phi_a[phi_a >= num_clusters - replace_c] = num_clusters - replace_c - 1\n",
    "\n",
    "    if is_estimate_w:#p(a|e,x)の推定\n",
    "        x_c = np.c_[x, np.eye(num_clusters)[c]]\n",
    "        pi_a_x_c_model = LogisticRegression(C=5, random_state=12345)\n",
    "        pi_a_x_c_model.fit(x_c, a)\n",
    "\n",
    "        w_x_a_full = pi / pi_0\n",
    "        pi_a_x_c_hat = np.zeros((num_data, num_actions))\n",
    "        pi_a_x_c_hat[:, np.unique(a)] = pi_a_x_c_model.predict_proba(x_c)\n",
    "        w_x_c_hat = (pi_a_x_c_hat * w_x_a_full).sum(1)\n",
    "\n",
    "        return np.clip((w_x_c_hat * r).mean(), min_value, max_value)\n",
    "\n",
    "    else:#p(e|a,x)=1としている\n",
    "        pi_0_c = np.zeros((num_data, num_clusters - replace_c))\n",
    "        pi_c = np.zeros((num_data, num_clusters - replace_c))\n",
    "        for c_ in range(num_clusters - replace_c):\n",
    "            pi_0_c[:, c_] = pi_0[:, phi_a == c_].sum(1)\n",
    "            pi_c[:, c_] = pi[:, phi_a == c_].sum(1)\n",
    "\n",
    "        # 周辺重要度重み\n",
    "        w_x_c = pi_c[np.arange(num_data), c] / pi_0_c[np.arange(num_data), c]\n",
    "        \n",
    "        \n",
    "        return np.clip((w_x_c * r).mean(), min_value, max_value),w_x_c.shape\n",
    "    \n",
    "    \n",
    "    "
   ]
  },
  {
   "cell_type": "code",
   "execution_count": 22,
   "metadata": {},
   "outputs": [],
   "source": [
    "## ログデータ上における評価方策の行動選択確率を計算\n",
    "pi = eps_greedy_policy(offline_logged_data[\"q_x_a\"])"
   ]
  },
  {
   "cell_type": "code",
   "execution_count": 23,
   "metadata": {},
   "outputs": [
    {
     "name": "stdout",
     "output_type": "stream",
     "text": [
      "pi_c: (500, 30)\n",
      "(500,)\n"
     ]
    }
   ],
   "source": [
    "num_data = offline_logged_data[\"num_data\"]\n",
    "num_actions, num_clusters = offline_logged_data[\"num_actions\"], offline_logged_data[\"num_clusters\"]\n",
    "x, a, c, r = offline_logged_data[\"x\"], offline_logged_data[\"a\"], copy(offline_logged_data[\"c\"]),offline_logged_data[\"r\"]\n",
    "pi_0, phi_a = offline_logged_data[\"pi_0\"], copy(offline_logged_data[\"phi_a\"])\n",
    "min_value, max_value = r.min(), r.max()\n",
    "    \n",
    "replace_c=0\n",
    "if replace_c > 0:\n",
    "        #replace_c個のクラスタをnum_clusters - replace_c - 1に結合\n",
    "    c[c >= num_clusters - replace_c] = num_clusters - replace_c - 1\n",
    "    phi_a[phi_a >= num_clusters - replace_c] = num_clusters - replace_c - 1\n",
    "\n",
    "is_estimate_w=False\n",
    "\n",
    "if is_estimate_w:#p(a|e,x)の推定\n",
    "        x_c = np.c_[x, np.eye(num_clusters)[c]]\n",
    "        print(x.shape)\n",
    "        print(x_c.shape)\n",
    "        pi_a_x_c_model = LogisticRegression(C=5, random_state=12345)\n",
    "        pi_a_x_c_model.fit(x_c, a)\n",
    "\n",
    "        w_x_a_full = pi / pi_0\n",
    "        pi_a_x_c_hat = np.zeros((num_data, num_actions))\n",
    "        pi_a_x_c_hat[:, np.unique(a)] = pi_a_x_c_model.predict_proba(x_c)\n",
    "        print(pi_a_x_c_hat.shape)\n",
    "        w_x_c_hat = (pi_a_x_c_hat * w_x_a_full).sum(1)\n",
    "\n",
    "        print(np.clip((w_x_c_hat * r).mean(), min_value, max_value))\n",
    "\n",
    "else:#p(e|a,x)=1としている\n",
    "        pi_0_c = np.zeros((num_data, num_clusters - replace_c))\n",
    "        pi_c = np.zeros((num_data, num_clusters - replace_c))\n",
    "        for c_ in range(num_clusters - replace_c):\n",
    "            pi_0_c[:, c_] = pi_0[:, phi_a == c_].sum(1)\n",
    "            pi_c[:, c_] = pi[:, phi_a == c_].sum(1)\n",
    "        print(\"pi_c:\",pi_c.shape)\n",
    "        # 周辺重要度重み\n",
    "        \n",
    "        w_x_c = pi_c[np.arange(num_data), c] / pi_0_c[np.arange(num_data), c]\n",
    "        print(pi_c[np.arange(num_data), c].shape)\n",
    "        #print(np.clip((w_x_c * r).mean(), min_value, max_value),w_x_c.shape)\n",
    "        "
   ]
  },
  {
   "cell_type": "markdown",
   "metadata": {},
   "source": [
    "# generate_waseda_student_data3完成"
   ]
  },
  {
   "cell_type": "code",
   "execution_count": 24,
   "metadata": {},
   "outputs": [],
   "source": [
    "from sklearn.utils import check_random_state\n",
    "from scipy.stats import rankdata\n",
    "\n",
    "from utils import sample_action_fast, sigmoid, softmax, eps_greedy_policy"
   ]
  },
  {
   "cell_type": "code",
   "execution_count": 57,
   "metadata": {},
   "outputs": [],
   "source": [
    "def generate_waseda_student_data3(\n",
    "    num_data: int,\n",
    "    phi_a: np.ndarray,\n",
    "    theta_g_0: np.ndarray,#以下q0の値\n",
    "    M_g_0: np.ndarray,\n",
    "    b_g_0: np.ndarray,\n",
    "    theta_h_0: np.ndarray,\n",
    "    M_h_0: np.ndarray,\n",
    "    b_h_0: np.ndarray,\n",
    "    theta_g_1: np.ndarray,  # 以下 q1 の値\n",
    "    M_g_1: np.ndarray,\n",
    "    b_g_1: np.ndarray,\n",
    "    theta_h_1: np.ndarray,\n",
    "    M_h_1: np.ndarray,\n",
    "    b_h_1: np.ndarray,\n",
    "    lambda1_: float = 0.5,\n",
    "    lambda0_: float = 0.5,\n",
    "    dim_context: int = 5,\n",
    "    num_actions: int = 50,\n",
    "    num_def_actions: int = 0,\n",
    "    num_clusters: int = 3,\n",
    "    beta: float = -3.0,\n",
    "    random_state: int = 12345,\n",
    ") -> dict:\n",
    "    \"\"\"行動特徴量を活用したオフ方策評価におけるログデータを生成する.\"\"\"\n",
    "    random_ = check_random_state(random_state)\n",
    "    x = random_.normal(size=(num_data, dim_context))\n",
    "    one_hot_a, one_hot_c = np.eye(num_actions), np.eye(num_clusters)\n",
    "    \n",
    "    # 期待報酬関数1を定義する\n",
    "    g_x_c_1 = (\n",
    "            (x - x ** 2) @ theta_g_1 + (x ** 3 + x ** 2 - x) @ M_g_1 @ one_hot_c + b_g_1\n",
    "        ) / 10\n",
    "    h_x_a_1 = (\n",
    "            (x ** 3 + x ** 2 - x) @ theta_h_1 + (x - x ** 2) @ M_h_1 @ one_hot_a + b_h_1\n",
    "        ) / 10\n",
    "    q_x_a_1 = (1 - lambda1_) * g_x_c_1[:, phi_a] + lambda1_ * h_x_a_1\n",
    "\n",
    "    #期待報酬関数０を定義する\n",
    "    g_x_c_0 = (\n",
    "            (x - x ** 2) @ theta_g_0 + (x ** 3 + x ** 2 - x) @ M_g_0 @ one_hot_c + b_g_0\n",
    "        ) / 10\n",
    "    h_x_a_0 = (\n",
    "            (x ** 3 + x ** 2 - x) @ theta_h_0 + (x - x ** 2) @ M_h_0 @ one_hot_a + b_h_0\n",
    "        ) / 10\n",
    "    q_x_a_0 = (1 - lambda0_) * g_x_c_0[:, phi_a] + lambda0_ * h_x_a_0\n",
    "\n",
    "    #期待報酬関数の差をCATEとして定義\n",
    "    cate_x_a = q_x_a_1 - q_x_a_0\n",
    "    \n",
    "    \n",
    "    #データ収集方策を定義する\n",
    "    pi_0 = softmax(beta*cate_x_a)\n",
    "    pi_0[:, :num_def_actions] = 0\n",
    "    pi_0 = pi_0 / pi_0.sum(1)[:, np.newaxis]\n",
    "\n",
    "    # 行動や報酬を抽出する\n",
    "    a = sample_action_fast(pi_0, random_state=random_state)\n",
    "    a_mat = np.zeros((num_data, num_actions), dtype=int)\n",
    "    a_mat[np.arange(num_data), a] = 1\n",
    "    pscore_mat = a_mat * pi_0 + (1 - a_mat) * (1 - pi_0)\n",
    "\n",
    "    q_x_a_factual = a_mat * q_x_a_1 + (1 - a_mat) * q_x_a_0\n",
    "    r_mat = random_.normal(q_x_a_factual)\n",
    "    \n",
    "    c = phi_a[a]\n",
    "    c_mat = np.zeros((num_data,num_clusters))\n",
    "    c_mat[np.arange(num_data), c] = 1\n",
    "    \n",
    "\n",
    "    return dict(\n",
    "        num_data=num_data, # データの数\n",
    "        num_actions=num_actions, #アクション数\n",
    "        num_clusters = num_clusters,\n",
    "        x=x,  #特徴量\n",
    "        a=a,   #行動\n",
    "        c = c, \n",
    "        c_mat = c_mat,     \n",
    "        r=r_mat[np.arange(num_data), a],\n",
    "        a_mat=a_mat,\n",
    "        r_mat=r_mat,\n",
    "        phi_a = phi_a,\n",
    "        pi_0=pi_0,\n",
    "        pscore=pi_0[np.arange(num_data), a],\n",
    "        pscore_mat=pscore_mat,\n",
    "        g_x_c_1=(1 - lambda1_) * g_x_c_1,\n",
    "        h_x_a_1=lambda1_ * h_x_a_1,\n",
    "        g_x_c_0=(1 - lambda0_) * g_x_c_0,\n",
    "        h_x_a_0=lambda0_ * h_x_a_0,\n",
    "        q_x_a_1=q_x_a_1,\n",
    "        q_x_a_0=q_x_a_0,\n",
    "        cate_x_a=cate_x_a,\n",
    "    )\n",
    "    "
   ]
  },
  {
   "cell_type": "code",
   "execution_count": 53,
   "metadata": {},
   "outputs": [],
   "source": [
    "def calc_true_value2(\n",
    "    dim_context: int,\n",
    "    num_actions: int,\n",
    "    num_clusters: int,\n",
    "    phi_a: np.ndarray,\n",
    "    theta_g_0,\n",
    "    M_g_0,\n",
    "    b_g_0,\n",
    "    theta_h_0,\n",
    "    M_h_0,\n",
    "    b_h_0,\n",
    "    theta_g_1,\n",
    "    M_g_1,\n",
    "    b_g_1,\n",
    "    theta_h_1,\n",
    "    M_h_1,\n",
    "    b_h_1,\n",
    "    lambda0_,\n",
    "    lambda1_,\n",
    "):\n",
    "    \"\"\"評価方策の真の性能を近似する.\"\"\"\n",
    "    test_bandit_data = generate_waseda_student_data3(\n",
    "        num_data=10000,\n",
    "        dim_context=dim_context,\n",
    "        num_actions=num_actions,\n",
    "        num_clusters=num_clusters,\n",
    "        phi_a=phi_a,\n",
    "        theta_g_0=theta_g_0,\n",
    "        M_g_0=M_g_0,\n",
    "        b_g_0=b_g_0,\n",
    "        theta_h_0=theta_h_0,\n",
    "        M_h_0=M_h_0,\n",
    "        b_h_0=b_h_0,\n",
    "        theta_g_1=theta_g_1,\n",
    "        M_g_1=M_g_1,\n",
    "        b_g_1=b_g_1,\n",
    "        theta_h_1=theta_h_1,\n",
    "        M_h_1=M_h_1,\n",
    "        b_h_1=b_h_1,\n",
    "        lambda0_=lambda0_,\n",
    "        lambda1_=lambda1_,\n",
    "    )\n",
    "\n",
    "    cate_x_a = test_bandit_data[\"cate_x_a\"]\n",
    "    pi =eps_greedy_policy(cate_x_a)\n",
    "    \n",
    "    q_x_a_1 =test_bandit_data[\"q_x_a_1\"]\n",
    "    q_x_a_0 = test_bandit_data[\"q_x_a_0\"]\n",
    "\n",
    "    return ((q_x_a_1-q_x_a_0)*pi).sum(1).mean()\n"
   ]
  },
  {
   "cell_type": "code",
   "execution_count": 27,
   "metadata": {},
   "outputs": [],
   "source": [
    "## シミュレーション設定\n",
    "num_runs = 5000 # シミュレーションの繰り返し回数\n",
    "dim_context = 5 # 特徴量xの次元\n",
    "num_clusters = 30 # 行動クラスタ数\n",
    "num_data = 500 # ログデータのサイズ\n",
    "beta = -0.2 # データ収集方策のパラメータ\n",
    "lambda1_ = 0.0 # クラスタ効果と残差効果の配合率\n",
    "lambda0_ = 0.0\n",
    "random_state = 12345\n",
    "random_ = check_random_state(random_state)\n",
    "num_actions_list = [250, 500, 1000, 2000, 4000] # 行動数, |A|\n",
    "num_actions = 200\n"
   ]
  },
  {
   "cell_type": "code",
   "execution_count": 28,
   "metadata": {},
   "outputs": [],
   "source": [
    "theta_g_1 = random_.normal(size=(dim_context, num_clusters))\n",
    "M_g_1 = random_.normal(size=(dim_context, num_clusters))\n",
    "b_g_1 = random_.normal(size=(1, num_clusters))\n",
    "\n",
    "theta_g_0 = random_.normal(size=(dim_context, num_clusters))\n",
    "M_g_0 = random_.normal(size=(dim_context, num_clusters))\n",
    "b_g_0 = random_.normal(size=(1, num_clusters))\n",
    "\n",
    "theta_h_1 = random_.normal(size=(dim_context, num_actions))\n",
    "M_h_1 = random_.normal(size=(dim_context, num_actions))\n",
    "b_h_1 = random_.normal(size=(1, num_actions))\n",
    "\n",
    "theta_h_0 = random_.normal(size=(dim_context, num_actions))\n",
    "M_h_0 = random_.normal(size=(dim_context, num_actions))\n",
    "b_h_0 = random_.normal(size=(1, num_actions))\n",
    "\n",
    "phi_a = random_.choice(num_clusters, size=num_actions)\n"
   ]
  },
  {
   "cell_type": "code",
   "execution_count": 29,
   "metadata": {},
   "outputs": [],
   "source": [
    "value = calc_true_value2(\n",
    "     dim_context=dim_context, num_actions=num_actions, num_clusters=num_clusters, phi_a=phi_a,\n",
    "        theta_g_0=theta_g_0,M_g_0=M_g_0,b_g_0=b_g_0,theta_h_0=theta_h_0,\n",
    "        M_h_0=M_h_0,b_h_0=b_h_0,theta_g_1=theta_g_1,M_g_1=M_g_1,\n",
    "        b_g_1=b_g_1,theta_h_1=theta_h_1,M_h_1=M_h_1,\n",
    "        b_h_1=b_h_1,lambda0_=lambda0_,lambda1_=lambda1_,\n",
    ")"
   ]
  },
  {
   "cell_type": "code",
   "execution_count": 30,
   "metadata": {},
   "outputs": [],
   "source": [
    "offline_logged_data = generate_waseda_student_data3(\n",
    "    num_data=num_data,\n",
    "    phi_a=phi_a,\n",
    "    theta_g_0=theta_g_0,\n",
    "    M_g_0=M_g_0,\n",
    "    b_g_0=b_g_0,\n",
    "    theta_h_0=theta_h_0,\n",
    "    M_h_0=M_h_0,\n",
    "    b_h_0=b_h_0,\n",
    "    theta_g_1=theta_g_1,\n",
    "    M_g_1=M_g_1,\n",
    "    b_g_1=b_g_1,\n",
    "    theta_h_1=theta_h_1,\n",
    "    M_h_1=M_h_1,\n",
    "    b_h_1=b_h_1,\n",
    "    lambda0_=lambda0_,\n",
    "    lambda1_=lambda1_,\n",
    "    dim_context=dim_context, num_actions=num_actions, num_clusters=num_clusters, random_state = 22\n",
    "    )\n",
    "    \n"
   ]
  },
  {
   "cell_type": "code",
   "execution_count": 31,
   "metadata": {},
   "outputs": [
    {
     "data": {
      "text/plain": [
       "array([-0.38964558, -0.40292869, -0.40292869, -0.0950624 ,  0.41279562,\n",
       "       -0.42614903, -0.0950624 , -0.61940551, -0.45341859,  0.01659223,\n",
       "       -0.42614903,  0.77840994,  0.19404969, -0.11862794, -0.42614903,\n",
       "       -0.45341859,  0.43489367, -0.34722887,  0.9215408 ,  0.77840994,\n",
       "       -0.0950624 ,  0.9215408 ,  0.9215408 ,  0.19578252,  0.9215408 ,\n",
       "        0.41279562,  0.77840994, -0.47845393,  0.43489367,  0.45983288,\n",
       "        0.41279562, -0.40292869,  0.24849034, -0.73819949, -0.38964558,\n",
       "       -0.24347622,  0.29976814,  0.19404969, -0.0950624 ,  0.41279562,\n",
       "       -0.0950624 ,  0.93495533, -0.08195264,  0.19404969, -0.00465744,\n",
       "       -0.38964558,  0.93052423,  0.24849034,  0.93495533, -0.0950624 ,\n",
       "        0.45983288, -0.11862794, -0.38964558, -0.00465744, -0.11862794,\n",
       "       -0.45341859, -0.34722887,  0.93495533,  0.98891805, -0.40292869,\n",
       "        0.9215408 ,  0.01659223,  0.96858841, -0.00465744,  0.93052423,\n",
       "        0.9215408 ,  0.01659223,  0.93495533,  0.41279562, -0.00465744,\n",
       "       -0.40292869,  0.77840994, -0.08195264,  0.41279562, -0.45341859,\n",
       "        0.93052423, -0.42614903, -0.11862794,  0.77840994,  0.24849034,\n",
       "        0.45983288, -0.73819949,  0.01659223,  0.93052423,  0.19404969,\n",
       "       -0.46591912, -0.34722887, -0.61940551, -0.38964558, -0.73819949,\n",
       "       -0.40292869,  0.19578252,  0.56346178,  0.01659223, -0.47845393,\n",
       "       -0.08195264, -0.46591912, -0.45341859,  0.9215408 , -0.61940551,\n",
       "        0.77840994,  0.56346178,  0.96858841, -0.47845393,  0.98891805,\n",
       "       -0.40292869,  0.98891805, -0.38964558, -0.46591912,  0.41279562,\n",
       "        0.24849034,  0.77840994,  0.43489367, -0.24347622,  0.77840994,\n",
       "       -0.42614903, -0.61940551,  0.93052423,  0.19404969,  0.24849034,\n",
       "       -0.61940551,  0.29976814,  0.29976814,  0.41279562, -0.45341859,\n",
       "        0.93052423, -0.61940551,  0.93495533,  0.93495533,  0.96858841,\n",
       "       -0.00465744,  0.96858841, -0.56746231, -0.47845393, -0.0950624 ,\n",
       "        0.43489367, -0.24347622, -0.08195264, -0.42614903, -0.45341859,\n",
       "       -0.11862794, -0.47845393, -0.56746231, -0.08195264,  0.9215408 ,\n",
       "        0.19404969, -0.0950624 ,  0.9215408 ,  0.19578252,  0.29976814,\n",
       "       -0.38964558,  0.24849034, -0.11862794, -0.11862794,  0.29976814,\n",
       "        0.93052423,  0.43489367,  0.77840994, -0.46591912,  0.01659223,\n",
       "        0.43489367,  0.56346178, -0.00465744,  0.45983288,  0.01659223,\n",
       "       -0.24347622,  0.01659223,  0.93052423, -0.38964558, -0.24347622,\n",
       "        0.77840994, -0.73819949, -0.38964558,  0.01659223,  0.45983288,\n",
       "       -0.0950624 , -0.24347622,  0.24849034, -0.61940551, -0.24347622,\n",
       "        0.56346178, -0.45341859, -0.46591912,  0.93052423, -0.40292869,\n",
       "       -0.56746231,  0.19404969,  0.29976814,  0.19404969,  0.98891805,\n",
       "        0.19404969, -0.45341859, -0.0950624 , -0.11862794, -0.08195264,\n",
       "       -0.08195264, -0.24347622,  0.9215408 , -0.47845393, -0.24347622])"
      ]
     },
     "execution_count": 31,
     "metadata": {},
     "output_type": "execute_result"
    }
   ],
   "source": [
    "offline_logged_data[\"cate_x_a\"][0]"
   ]
  },
  {
   "cell_type": "markdown",
   "metadata": {},
   "source": [
    "# New_MIPS完成"
   ]
  },
  {
   "cell_type": "code",
   "execution_count": 32,
   "metadata": {},
   "outputs": [],
   "source": [
    "def calc_new_mips_takashi(\n",
    "    dataset:dict, \n",
    "    pi:np.ndarray,\n",
    "    replace_c:int = 0,\n",
    "    is_estimate_w: bool = False\n",
    "    ) ->float:\n",
    "    \n",
    "    num_data = dataset[\"num_data\"]\n",
    "    num_actions, num_clusters = dataset[\"num_actions\"], dataset[\"num_clusters\"]\n",
    "    x, a, c, r = dataset[\"x\"], dataset[\"a\"], copy(dataset[\"c\"]),dataset[\"r\"]\n",
    "    pi_0, phi_a = dataset[\"pi_0\"], copy(dataset[\"phi_a\"])\n",
    "    min_value, max_value = r.min(), r.max()\n",
    "    #actionしない行動確率を定義\n",
    "    a_mat, r_mat = copy(dataset[\"a_mat\"]), copy(dataset[\"r_mat\"])\n",
    "    c_mat = copy(dataset[\"c_mat\"])\n",
    "    not_c_mat = 1 - c_mat\n",
    "\n",
    " \n",
    "    if replace_c > 0:\n",
    "        #replace_c個のクラスタをnum_clusters - replace_c - 1に結合\n",
    "        c[c >= num_clusters - replace_c] = num_clusters - replace_c - 1\n",
    "        phi_a[phi_a >= num_clusters - replace_c] = num_clusters - replace_c - 1\n",
    "\n",
    "\n",
    "    if is_estimate_w:#p(a|e,x)の推定\n",
    "        x_c = np.c_[x, np.eye(num_clusters)[c]]\n",
    "        print(x.shape)\n",
    "        print(x_c.shape)\n",
    "        pi_a_x_c_model = LogisticRegression(C=5, random_state=12345)\n",
    "        pi_a_x_c_model.fit(x_c, a)\n",
    "\n",
    "        w_x_a_full = pi / pi_0\n",
    "        pi_a_x_c_hat = np.zeros((num_data, num_actions))\n",
    "        pi_a_x_c_hat[:, np.unique(a)] = pi_a_x_c_model.predict_proba(x_c)\n",
    "        print(pi_a_x_c_hat.shape)\n",
    "        w_x_c_hat = (pi_a_x_c_hat * w_x_a_full).sum(1)\n",
    "\n",
    "        return np.clip((w_x_c_hat * r).mean(), min_value, max_value)\n",
    "\n",
    "    else:#p(e|a,x)=1としている\n",
    "        pi_0_c = np.zeros((num_data, num_clusters - replace_c))\n",
    "        pi_c = np.zeros((num_data, num_clusters - replace_c))\n",
    "        \n",
    "        r_c_mat = np.zeros((num_data, num_clusters - replace_c))\n",
    "        \n",
    "        r_mat_not_a = r_mat * (1-a_mat)\n",
    "        for c_ in range(num_clusters - replace_c):\n",
    "            pi_0_c[:, c_] = pi_0[:, phi_a == c_].sum(1)\n",
    "            pi_c[:, c_] = pi[:, phi_a == c_].sum(1)\n",
    "            \n",
    "            r_c_mat[:,c_] = r_mat_not_a[:,phi_a == c_].sum(1)\n",
    "            \n",
    "        # 周辺重要度重み\n",
    "        w_x_c_1 = pi_c[np.arange(num_data), c] / pi_0_c[np.arange(num_data), c]\n",
    "        w_x_c_0 = (pi_c* not_c_mat)/ (not_c_mat -(pi_0_c*not_c_mat))\n",
    "        #nanを０に変更\n",
    "        w_x_c_0 = np.nan_to_num(w_x_c_0, nan=0)\n",
    "        #print(w_x_c_1.shape)\n",
    "        #print(w_x_c_0.shape)\n",
    "        #print(w_x_c_0[0])\n",
    "        \n",
    "        \n",
    "        #print((w_x_c_1 * r).shape)\n",
    "        #print(((w_x_c_0*not_r_c_mat).sum(1)).shape)\n",
    "        \n",
    "        ans = w_x_c_1 * r - (w_x_c_0*r_c_mat).sum(1)\n",
    "        return ans.mean()\n",
    "       # return np.clip((w_x_c_1 * r + (w_x_c_0*r_c_mat).sum(1)).mean(), min_value, max_value)\n",
    "    \n",
    "    "
   ]
  },
  {
   "cell_type": "code",
   "execution_count": 33,
   "metadata": {},
   "outputs": [
    {
     "name": "stdout",
     "output_type": "stream",
     "text": [
      "1.6467122586372873\n"
     ]
    }
   ],
   "source": [
    "ans = calc_true_value2(\n",
    "     dim_context=dim_context, num_actions=num_actions, num_clusters=num_clusters, phi_a=phi_a,\n",
    "        theta_g_0=theta_g_0,M_g_0=M_g_0,b_g_0=b_g_0,theta_h_0=theta_h_0,\n",
    "        M_h_0=M_h_0,b_h_0=b_h_0,theta_g_1=theta_g_1,M_g_1=M_g_1,\n",
    "        b_g_1=b_g_1,theta_h_1=theta_h_1,M_h_1=M_h_1,\n",
    "        b_h_1=b_h_1,lambda0_=lambda0_,lambda1_=lambda1_,\n",
    ")\n",
    "print(ans)"
   ]
  },
  {
   "cell_type": "code",
   "execution_count": 34,
   "metadata": {},
   "outputs": [
    {
     "name": "stdout",
     "output_type": "stream",
     "text": [
      "-0.5365558806916729\n"
     ]
    }
   ],
   "source": [
    "a = calc_new_mips_takashi(offline_logged_data, pi)\n",
    "print(a)"
   ]
  },
  {
   "cell_type": "markdown",
   "metadata": {},
   "source": [
    "# New_MIPS作成"
   ]
  },
  {
   "cell_type": "code",
   "execution_count": 35,
   "metadata": {},
   "outputs": [
    {
     "name": "stdout",
     "output_type": "stream",
     "text": [
      "[[0.81784207 1.0025926  0.998583   ... 1.07375234 1.11368492 1.00009239]\n",
      " [1.00390682 0.99795173 0.85485074 ... 1.03501227 1.0589812  0.        ]\n",
      " [1.00178793 1.01401426 1.01701563 ... 1.01140687 1.04761074 0.8281474 ]\n",
      " ...\n",
      " [0.         0.99609868 0.9980022  ... 1.00586487 1.11475063 0.99800023]\n",
      " [0.86382127 0.99764506 0.99885626 ... 1.00435736 1.02840436 1.00008923]\n",
      " [0.83021623 0.84664349 1.0313807  ... 1.01974406 1.01739527 1.02400128]]\n",
      "(500, 30)\n",
      "(500,)\n",
      "(500,)\n",
      "-1.5395281269419385\n"
     ]
    }
   ],
   "source": [
    "num_data = offline_logged_data[\"num_data\"]\n",
    "num_actions, num_clusters = offline_logged_data[\"num_actions\"], offline_logged_data[\"num_clusters\"]\n",
    "x, a, c, r = offline_logged_data[\"x\"], offline_logged_data[\"a\"], copy(offline_logged_data[\"c\"]),offline_logged_data[\"r\"]\n",
    "pi_0, phi_a = offline_logged_data[\"pi_0\"], copy(offline_logged_data[\"phi_a\"])\n",
    "min_value, max_value = r.min(), r.max()\n",
    "#actionしない行動確率を定義\n",
    "a_mat, r_mat = offline_logged_data[\"a_mat\"], copy(offline_logged_data[\"r_mat\"])\n",
    "not_a_mat = 1 - a_mat\n",
    "c_mat = offline_logged_data[\"c_mat\"]\n",
    "not_c_mat = 1 - c_mat\n",
    "\n",
    " \n",
    "replace_c=0\n",
    "if replace_c > 0:\n",
    "        #replace_c個のクラスタをnum_clusters - replace_c - 1に結合\n",
    "    c[c >= num_clusters - replace_c] = num_clusters - replace_c - 1\n",
    "    phi_a[phi_a >= num_clusters - replace_c] = num_clusters - replace_c - 1\n",
    "\n",
    "is_estimate_w=False\n",
    "    \n",
    "if is_estimate_w:#p(a|e,x)の推定\n",
    "        x_c = np.c_[x, np.eye(num_clusters)[c]]\n",
    "        print(x.shape)\n",
    "        print(x_c.shape)\n",
    "        pi_a_x_c_model = LogisticRegression(C=5, random_state=12345)\n",
    "        pi_a_x_c_model.fit(x_c, a)\n",
    "\n",
    "        w_x_a_full = pi / pi_0\n",
    "        pi_a_x_c_hat = np.zeros((num_data, num_actions))\n",
    "        pi_a_x_c_hat[:, np.unique(a)] = pi_a_x_c_model.predict_proba(x_c)\n",
    "        print(pi_a_x_c_hat.shape)\n",
    "        w_x_c_hat = (pi_a_x_c_hat * w_x_a_full).sum(1)\n",
    "\n",
    "        print(np.clip((w_x_c_hat * r).mean(), min_value, max_value))\n",
    "\n",
    "else:#p(e|a,x)=1としている\n",
    "        pi_0_c = np.zeros((num_data, num_clusters - replace_c))\n",
    "        pi_c = np.zeros((num_data, num_clusters - replace_c))\n",
    "        \n",
    "        r_c_mat = np.zeros((num_data, num_clusters - replace_c))\n",
    "        r_mat_not_a = r_mat * (1-a_mat)\n",
    "        for c_ in range(num_clusters - replace_c):\n",
    "            pi_0_c[:, c_] = pi_0[:, phi_a == c_].sum(1)\n",
    "            pi_c[:, c_] = pi[:, phi_a == c_].sum(1)\n",
    "            \n",
    "            r_c_mat[:,c_] = r_mat_not_a[:,phi_a == c_].sum(1)\n",
    "            \n",
    "    \n",
    "            \n",
    "        \n",
    "        not_r_c_mat = r_c_mat * not_c_mat\n",
    "        # 周辺重要度重み\n",
    "        w_x_c_1 = pi_c[np.arange(num_data), c] / pi_0_c[np.arange(num_data), c]\n",
    "        w_x_c_0 = (not_c_mat - (pi_c*not_c_mat))/ (not_c_mat-(pi_0_c*not_c_mat))\n",
    "        #nanを０に変更\n",
    "        w_x_c_0 = np.nan_to_num(w_x_c_0, nan=0)\n",
    "        #print(w_x_c_1)\n",
    "        print(w_x_c_0)\n",
    "        #print(w_x_c_0[0])\n",
    "        print(not_r_c_mat.shape)\n",
    "        \n",
    "        print((w_x_c_1 * r).shape)\n",
    "        print(((w_x_c_0*not_r_c_mat).sum(1)).shape)\n",
    "        print(np.clip((w_x_c_1 * r + ((w_x_c_0*not_r_c_mat).sum(1))).mean(), min_value, max_value))  \n",
    "    \n",
    "    \n",
    "    \n"
   ]
  },
  {
   "cell_type": "code",
   "execution_count": 36,
   "metadata": {},
   "outputs": [],
   "source": [
    "for c_ in range(num_clusters - replace_c):\n",
    "            pi_0_c[:, c_] = pi_0[:, phi_a == c_].sum(1)\n",
    "            pi_c[:, c_] = pi[:, phi_a == c_].sum(1)\n",
    "            \n",
    "            r_c_mat[:,c_] = r_mat_not_a[:,phi_a == c_].sum(1)"
   ]
  },
  {
   "cell_type": "code",
   "execution_count": 37,
   "metadata": {},
   "outputs": [
    {
     "data": {
      "text/plain": [
       "array([[-1.65462446, -2.80926882, -1.42955163, ...,  3.60287022,\n",
       "         0.20966523, -3.20997579],\n",
       "       [-5.93765586, -5.80336924,  1.28372977, ..., -3.14338988,\n",
       "         1.07861545, -3.04281423],\n",
       "       [ 4.2620379 ,  0.81280298,  1.91012318, ..., -2.03037733,\n",
       "         0.73926623,  2.43418773],\n",
       "       ...,\n",
       "       [11.81570196, 12.90409898, -5.26353909, ...,  3.85929983,\n",
       "        13.01454213, -5.86798787],\n",
       "       [ 3.33312667, -8.31984902, -0.88359679, ...,  0.22228362,\n",
       "         2.69476355, -1.55441835],\n",
       "       [ 0.20469841, -4.79591538,  0.24261487, ..., -2.41980619,\n",
       "        -1.88384623, -3.52546387]])"
      ]
     },
     "execution_count": 37,
     "metadata": {},
     "output_type": "execute_result"
    }
   ],
   "source": [
    "r_c_mat"
   ]
  },
  {
   "cell_type": "code",
   "execution_count": 38,
   "metadata": {},
   "outputs": [
    {
     "data": {
      "text/plain": [
       "array([0., 0., 0., 0., 0., 0., 0., 0., 0., 0., 0., 0., 0., 0., 0., 0., 0.,\n",
       "       0., 0., 0., 1., 0., 0., 0., 0., 0., 0., 0., 0., 0.])"
      ]
     },
     "execution_count": 38,
     "metadata": {},
     "output_type": "execute_result"
    }
   ],
   "source": [
    "c_mat = offline_logged_data[\"c_mat\"]\n",
    "c_mat[0]"
   ]
  },
  {
   "cell_type": "code",
   "execution_count": 39,
   "metadata": {},
   "outputs": [
    {
     "data": {
      "text/plain": [
       "array([0, 0, 0, 0, 0, 0, 0, 0, 0, 0, 0, 0, 0, 0, 0, 0, 0, 0, 0, 0, 0, 0,\n",
       "       0, 0, 0, 0, 0, 0, 0, 0, 0, 0, 0, 0, 0, 0, 0, 0, 0, 0, 1, 0, 0, 0,\n",
       "       0, 0, 0, 0, 0, 0, 0, 0, 0, 0, 0, 0, 0, 0, 0, 0, 0, 0, 0, 0, 0, 0,\n",
       "       0, 0, 0, 0, 0, 0, 0, 0, 0, 0, 0, 0, 0, 0, 0, 0, 0, 0, 0, 0, 0, 0,\n",
       "       0, 0, 0, 0, 0, 0, 0, 0, 0, 0, 0, 0, 0, 0, 0, 0, 0, 0, 0, 0, 0, 0,\n",
       "       0, 0, 0, 0, 0, 0, 0, 0, 0, 0, 0, 0, 0, 0, 0, 0, 0, 0, 0, 0, 0, 0,\n",
       "       0, 0, 0, 0, 0, 0, 0, 0, 0, 0, 0, 0, 0, 0, 0, 0, 0, 0, 0, 0, 0, 0,\n",
       "       0, 0, 0, 0, 0, 0, 0, 0, 0, 0, 0, 0, 0, 0, 0, 0, 0, 0, 0, 0, 0, 0,\n",
       "       0, 0, 0, 0, 0, 0, 0, 0, 0, 0, 0, 0, 0, 0, 0, 0, 0, 0, 0, 0, 0, 0,\n",
       "       0, 0])"
      ]
     },
     "execution_count": 39,
     "metadata": {},
     "output_type": "execute_result"
    }
   ],
   "source": [
    "a_mat[0]"
   ]
  },
  {
   "cell_type": "code",
   "execution_count": 40,
   "metadata": {},
   "outputs": [
    {
     "data": {
      "text/plain": [
       "array([[ 0.42111271, -0.40056284,  1.65103033, ..., -1.4268826 ,\n",
       "         0.94575702,  0.3386598 ],\n",
       "       [-0.90626587,  1.84474019, -0.47692847, ...,  0.90642853,\n",
       "        -1.04628459, -0.34338348],\n",
       "       [ 0.26387351,  2.41499577,  1.63267834, ..., -1.1107935 ,\n",
       "        -2.47852404, -0.49540553],\n",
       "       ...,\n",
       "       [-0.82244647, -1.02213329, -1.87931562, ..., -0.07218327,\n",
       "         0.00968476, -2.24769925],\n",
       "       [-1.4764107 , -0.77536327, -1.253544  , ...,  2.03216081,\n",
       "         1.33895712, -0.53127233],\n",
       "       [ 1.09805213, -1.17740417, -0.393371  , ...,  0.05730825,\n",
       "        -2.4304582 ,  0.7755982 ]])"
      ]
     },
     "execution_count": 40,
     "metadata": {},
     "output_type": "execute_result"
    }
   ],
   "source": [
    "r_mat"
   ]
  },
  {
   "cell_type": "code",
   "execution_count": 41,
   "metadata": {},
   "outputs": [
    {
     "data": {
      "text/plain": [
       "array([[ 0.42111271, -0.40056284,  1.65103033, ..., -1.4268826 ,\n",
       "         0.94575702,  0.3386598 ],\n",
       "       [-0.90626587,  1.84474019, -0.47692847, ...,  0.90642853,\n",
       "        -1.04628459, -0.34338348],\n",
       "       [ 0.26387351,  2.41499577,  1.63267834, ..., -1.1107935 ,\n",
       "        -2.47852404, -0.49540553],\n",
       "       ...,\n",
       "       [-0.82244647, -1.02213329, -1.87931562, ..., -0.07218327,\n",
       "         0.00968476, -2.24769925],\n",
       "       [-1.4764107 , -0.77536327, -1.253544  , ...,  2.03216081,\n",
       "         1.33895712, -0.53127233],\n",
       "       [ 1.09805213, -1.17740417, -0.393371  , ...,  0.05730825,\n",
       "        -2.4304582 ,  0.7755982 ]])"
      ]
     },
     "execution_count": 41,
     "metadata": {},
     "output_type": "execute_result"
    }
   ],
   "source": [
    "r_mat_not_a = r_mat * (1-a_mat)\n",
    "r_mat_not_a"
   ]
  },
  {
   "cell_type": "code",
   "execution_count": 42,
   "metadata": {},
   "outputs": [
    {
     "name": "stdout",
     "output_type": "stream",
     "text": [
      "[nan  4.]\n"
     ]
    }
   ],
   "source": [
    "a = np.array([[1,0],[2,2]])\n",
    "b = np.array([[1,0],[1,1]])\n",
    "\n",
    "print((a/b).sum(1))"
   ]
  },
  {
   "cell_type": "code",
   "execution_count": 43,
   "metadata": {},
   "outputs": [
    {
     "data": {
      "text/plain": [
       "array([[1., 1., 1., ..., 1., 1., 1.],\n",
       "       [1., 1., 1., ..., 1., 1., 0.],\n",
       "       [1., 1., 1., ..., 1., 1., 1.],\n",
       "       ...,\n",
       "       [0., 1., 1., ..., 1., 1., 1.],\n",
       "       [1., 1., 1., ..., 1., 1., 1.],\n",
       "       [1., 1., 1., ..., 1., 1., 1.]])"
      ]
     },
     "execution_count": 43,
     "metadata": {},
     "output_type": "execute_result"
    }
   ],
   "source": [
    "not_c_mat"
   ]
  },
  {
   "cell_type": "code",
   "execution_count": 44,
   "metadata": {},
   "outputs": [
    {
     "data": {
      "text/plain": [
       "array([[0.183, 0.004, 0.002, ..., 0.003, 0.002, 0.002],\n",
       "       [0.003, 0.004, 0.182, ..., 0.003, 0.002, 0.002],\n",
       "       [0.003, 0.004, 0.002, ..., 0.003, 0.002, 0.182],\n",
       "       ...,\n",
       "       [0.183, 0.004, 0.002, ..., 0.003, 0.002, 0.002],\n",
       "       [0.183, 0.004, 0.002, ..., 0.003, 0.002, 0.002],\n",
       "       [0.183, 0.184, 0.002, ..., 0.003, 0.002, 0.002]])"
      ]
     },
     "execution_count": 44,
     "metadata": {},
     "output_type": "execute_result"
    }
   ],
   "source": [
    "pi_c"
   ]
  },
  {
   "cell_type": "code",
   "execution_count": 45,
   "metadata": {},
   "outputs": [
    {
     "name": "stdout",
     "output_type": "stream",
     "text": [
      "(500,)\n",
      "(500, 200)\n"
     ]
    }
   ],
   "source": [
    "print(r.shape)\n",
    "print(r_mat.shape)"
   ]
  },
  {
   "cell_type": "code",
   "execution_count": 46,
   "metadata": {},
   "outputs": [
    {
     "data": {
      "text/plain": [
       "array([[1., 1., 1., ..., 1., 1., 1.],\n",
       "       [1., 1., 1., ..., 1., 1., 0.],\n",
       "       [1., 1., 1., ..., 1., 1., 1.],\n",
       "       ...,\n",
       "       [0., 1., 1., ..., 1., 1., 1.],\n",
       "       [1., 1., 1., ..., 1., 1., 1.],\n",
       "       [1., 1., 1., ..., 1., 1., 1.]])"
      ]
     },
     "execution_count": 46,
     "metadata": {},
     "output_type": "execute_result"
    }
   ],
   "source": [
    "c_mat = np.zeros((num_data,num_clusters-replace_c))\n",
    "for i in range(num_data):\n",
    "    c_mat[i,c[i]] = 1\n",
    "    \n",
    "1-c_mat"
   ]
  },
  {
   "cell_type": "markdown",
   "metadata": {},
   "source": [
    "# 検証"
   ]
  },
  {
   "cell_type": "markdown",
   "metadata": {},
   "source": [
    "## IPSを定義"
   ]
  },
  {
   "cell_type": "code",
   "execution_count": 47,
   "metadata": {},
   "outputs": [],
   "source": [
    "## IPSを定義\n",
    "\n",
    "def calc_new_ips(dataset:dict, pi:np.ndarray) ->float:\n",
    "    \"\"\"\n",
    "    IPS推定量\n",
    "\n",
    "    Args:\n",
    "        dataset (dict): _description_\n",
    "        pi (np.ndarray): _description_\n",
    "\n",
    "    Returns:\n",
    "        float: _description_\n",
    "    \"\"\"\n",
    "    \n",
    "    pi_0 = dataset[\"pi_0\"]\n",
    "    \n",
    "    ones = np.ones((dataset[\"num_data\"],dataset[\"num_actions\"]))\n",
    "    a = dataset[\"a_mat\"]\n",
    "    not_a = ones-dataset[\"a_mat\"]\n",
    "    \n",
    "    \n",
    "    #r_a_1にかかるウエイトと，r_a_0にかかるウエイトを作成\n",
    "    w_1 = pi*a / pi_0*a  # n×|A|\n",
    "    w_0 = (pi*not_a)/ ((ones*not_a)-(pi_0*not_a)) # n×|A|\n",
    "    \n",
    "    w_1 = np.nan_to_num(w_1,nan=0)\n",
    "    w_0 = np.nan_to_num(w_0, nan=0)\n",
    "    \n",
    "    return (dataset[\"r_mat\"]*w_1 - dataset[\"r_mat\"]*w_0).sum(1).mean()"
   ]
  },
  {
   "cell_type": "code",
   "execution_count": 48,
   "metadata": {},
   "outputs": [],
   "source": [
    "## シミュレーション設定\n",
    "num_runs = 50 # シミュレーションの繰り返し回数\n",
    "dim_context = 5 # 特徴量xの次元\n",
    "num_clusters = 30 # 行動クラスタ数\n",
    "num_data = 500 # ログデータのサイズ\n",
    "beta = -0.2 # データ収集方策のパラメータ\n",
    "lambda1_ = 0.0 # クラスタ効果と残差効果の配合率\n",
    "lambda0_ = 0.0\n",
    "random_state = 12345\n",
    "random_ = check_random_state(random_state)\n",
    "num_actions_list = [250, 500] # 行動数, |A|"
   ]
  },
  {
   "cell_type": "code",
   "execution_count": 54,
   "metadata": {},
   "outputs": [
    {
     "name": "stderr",
     "output_type": "stream",
     "text": [
      "num_actions=250...: 100%|██████████| 50/50 [00:02<00:00, 17.05it/s]\n",
      "num_actions=500...: 100%|██████████| 50/50 [00:06<00:00,  7.87it/s]\n"
     ]
    }
   ],
   "source": [
    "result_df_list = []\n",
    "theta_g_1 = random_.normal(size=(dim_context, num_clusters))\n",
    "M_g_1 = random_.normal(size=(dim_context, num_clusters))\n",
    "b_g_1 = random_.normal(size=(1, num_clusters))\n",
    "theta_g_0 = random_.normal(size=(dim_context, num_clusters))\n",
    "M_g_0 = random_.normal(size=(dim_context, num_clusters))\n",
    "b_g_0 = random_.normal(size=(1, num_clusters))\n",
    "\n",
    "for num_actions in num_actions_list:\n",
    "    ## 期待報酬関数を定義するためのパラメータを抽出\n",
    "    phi_a = random_.choice(num_clusters, size=num_actions)\n",
    "    \n",
    "    theta_h_1 = random_.normal(size=(dim_context, num_actions))\n",
    "    M_h_1 = random_.normal(size=(dim_context, num_actions))\n",
    "    b_h_1 = random_.normal(size=(1, num_actions))\n",
    "\n",
    "    theta_h_0 = random_.normal(size=(dim_context, num_actions))\n",
    "    M_h_0 = random_.normal(size=(dim_context, num_actions))\n",
    "    b_h_0 = random_.normal(size=(1, num_actions))\n",
    "    \n",
    "\n",
    "    ## 評価方策の真の性能(policy value)を計算\n",
    "    policy_value = calc_true_value2(\n",
    "        dim_context=dim_context, num_actions=num_actions, num_clusters=num_clusters, phi_a=phi_a,\n",
    "        theta_g_0=theta_g_0,M_g_0=M_g_0,b_g_0=b_g_0,theta_h_0=theta_h_0,\n",
    "        M_h_0=M_h_0,b_h_0=b_h_0,theta_g_1=theta_g_1,M_g_1=M_g_1,\n",
    "        b_g_1=b_g_1,theta_h_1=theta_h_1,M_h_1=M_h_1,\n",
    "        b_h_1=b_h_1,lambda0_=lambda0_,lambda1_=lambda1_,\n",
    "    )\n",
    "\n",
    "    estimated_policy_value_list = []\n",
    "    for _ in tqdm(range(num_runs), desc=f\"num_actions={num_actions}...\"):\n",
    "        ## データ収集方策が形成する分布に従いログデータを生成\n",
    "        offline_logged_data = generate_waseda_student_data3(\n",
    "            num_data=num_data, phi_a=phi_a,\n",
    "            theta_g_0=theta_g_0,M_g_0=M_g_0,b_g_0=b_g_0,theta_h_0=theta_h_0,\n",
    "            M_h_0=M_h_0,b_h_0=b_h_0,theta_g_1=theta_g_1,M_g_1=M_g_1,\n",
    "            b_g_1=b_g_1,theta_h_1=theta_h_1,M_h_1=M_h_1,\n",
    "            b_h_1=b_h_1,lambda0_=lambda0_,lambda1_=lambda1_,\n",
    "            dim_context=dim_context, num_actions=num_actions, num_clusters=num_clusters, random_state = _\n",
    "        )\n",
    "\n",
    "        ## ログデータ上における評価方策の行動選択確率を計算\n",
    "        pi = eps_greedy_policy(offline_logged_data[\"cate_x_a\"])\n",
    "\n",
    "        ## ログデータを用いてオフ方策評価を実行する\n",
    "        estimated_policy_values = dict()\n",
    "        estimated_policy_values[\"ips\"] = calc_new_ips(offline_logged_data, pi)\n",
    "        estimated_policy_values[\"mips\"] = calc_new_mips_takashi(offline_logged_data, pi)\n",
    "        #estimated_policy_values[\"mips (w_hat)\"] = calc_mips(offline_logged_data, pi, is_estimate_w=True)\n",
    "        estimated_policy_value_list.append(estimated_policy_values)\n",
    "\n",
    "    ## シミュレーション結果を集計する\n",
    "    result_df_list.append(\n",
    "        aggregate_simulation_results(\n",
    "            estimated_policy_value_list, policy_value, \"num_actions\", num_actions,\n",
    "        )\n",
    "    )\n",
    "result_df_actions = pd.concat(result_df_list).reset_index(level=0)"
   ]
  },
  {
   "cell_type": "code",
   "execution_count": 55,
   "metadata": {},
   "outputs": [
    {
     "data": {
      "text/html": [
       "<div>\n",
       "<style scoped>\n",
       "    .dataframe tbody tr th:only-of-type {\n",
       "        vertical-align: middle;\n",
       "    }\n",
       "\n",
       "    .dataframe tbody tr th {\n",
       "        vertical-align: top;\n",
       "    }\n",
       "\n",
       "    .dataframe thead th {\n",
       "        text-align: right;\n",
       "    }\n",
       "</style>\n",
       "<table border=\"1\" class=\"dataframe\">\n",
       "  <thead>\n",
       "    <tr style=\"text-align: right;\">\n",
       "      <th></th>\n",
       "      <th>index</th>\n",
       "      <th>est</th>\n",
       "      <th>value</th>\n",
       "      <th>num_actions</th>\n",
       "      <th>se</th>\n",
       "      <th>bias</th>\n",
       "      <th>variance</th>\n",
       "      <th>true_value</th>\n",
       "    </tr>\n",
       "  </thead>\n",
       "  <tbody>\n",
       "    <tr>\n",
       "      <th>0</th>\n",
       "      <td>0</td>\n",
       "      <td>ips</td>\n",
       "      <td>0.662127</td>\n",
       "      <td>250</td>\n",
       "      <td>0.917865</td>\n",
       "      <td>0.783461</td>\n",
       "      <td>0.005317</td>\n",
       "      <td>1.620179</td>\n",
       "    </tr>\n",
       "    <tr>\n",
       "      <th>1</th>\n",
       "      <td>0</td>\n",
       "      <td>mips</td>\n",
       "      <td>4.851660</td>\n",
       "      <td>250</td>\n",
       "      <td>10.442466</td>\n",
       "      <td>15.851609</td>\n",
       "      <td>0.562391</td>\n",
       "      <td>1.620179</td>\n",
       "    </tr>\n",
       "    <tr>\n",
       "      <th>2</th>\n",
       "      <td>1</td>\n",
       "      <td>ips</td>\n",
       "      <td>0.851771</td>\n",
       "      <td>250</td>\n",
       "      <td>0.590451</td>\n",
       "      <td>0.783461</td>\n",
       "      <td>0.013625</td>\n",
       "      <td>1.620179</td>\n",
       "    </tr>\n",
       "    <tr>\n",
       "      <th>3</th>\n",
       "      <td>1</td>\n",
       "      <td>mips</td>\n",
       "      <td>5.806563</td>\n",
       "      <td>250</td>\n",
       "      <td>17.525807</td>\n",
       "      <td>15.851609</td>\n",
       "      <td>0.042015</td>\n",
       "      <td>1.620179</td>\n",
       "    </tr>\n",
       "    <tr>\n",
       "      <th>4</th>\n",
       "      <td>2</td>\n",
       "      <td>ips</td>\n",
       "      <td>0.739093</td>\n",
       "      <td>250</td>\n",
       "      <td>0.776314</td>\n",
       "      <td>0.783461</td>\n",
       "      <td>0.000016</td>\n",
       "      <td>1.620179</td>\n",
       "    </tr>\n",
       "    <tr>\n",
       "      <th>...</th>\n",
       "      <td>...</td>\n",
       "      <td>...</td>\n",
       "      <td>...</td>\n",
       "      <td>...</td>\n",
       "      <td>...</td>\n",
       "      <td>...</td>\n",
       "      <td>...</td>\n",
       "      <td>...</td>\n",
       "    </tr>\n",
       "    <tr>\n",
       "      <th>195</th>\n",
       "      <td>47</td>\n",
       "      <td>mips</td>\n",
       "      <td>13.935230</td>\n",
       "      <td>500</td>\n",
       "      <td>150.541448</td>\n",
       "      <td>149.846329</td>\n",
       "      <td>0.000804</td>\n",
       "      <td>1.665697</td>\n",
       "    </tr>\n",
       "    <tr>\n",
       "      <th>196</th>\n",
       "      <td>48</td>\n",
       "      <td>ips</td>\n",
       "      <td>0.814333</td>\n",
       "      <td>500</td>\n",
       "      <td>0.724820</td>\n",
       "      <td>0.769336</td>\n",
       "      <td>0.000663</td>\n",
       "      <td>1.665697</td>\n",
       "    </tr>\n",
       "    <tr>\n",
       "      <th>197</th>\n",
       "      <td>48</td>\n",
       "      <td>mips</td>\n",
       "      <td>15.805814</td>\n",
       "      <td>500</td>\n",
       "      <td>199.942932</td>\n",
       "      <td>149.846329</td>\n",
       "      <td>3.605989</td>\n",
       "      <td>1.665697</td>\n",
       "    </tr>\n",
       "    <tr>\n",
       "      <th>198</th>\n",
       "      <td>49</td>\n",
       "      <td>ips</td>\n",
       "      <td>0.786110</td>\n",
       "      <td>500</td>\n",
       "      <td>0.773672</td>\n",
       "      <td>0.769336</td>\n",
       "      <td>0.000006</td>\n",
       "      <td>1.665697</td>\n",
       "    </tr>\n",
       "    <tr>\n",
       "      <th>199</th>\n",
       "      <td>49</td>\n",
       "      <td>mips</td>\n",
       "      <td>14.908454</td>\n",
       "      <td>500</td>\n",
       "      <td>175.370610</td>\n",
       "      <td>149.846329</td>\n",
       "      <td>1.003169</td>\n",
       "      <td>1.665697</td>\n",
       "    </tr>\n",
       "  </tbody>\n",
       "</table>\n",
       "<p>200 rows × 8 columns</p>\n",
       "</div>"
      ],
      "text/plain": [
       "     index   est      value  num_actions          se        bias  variance  \\\n",
       "0        0   ips   0.662127          250    0.917865    0.783461  0.005317   \n",
       "1        0  mips   4.851660          250   10.442466   15.851609  0.562391   \n",
       "2        1   ips   0.851771          250    0.590451    0.783461  0.013625   \n",
       "3        1  mips   5.806563          250   17.525807   15.851609  0.042015   \n",
       "4        2   ips   0.739093          250    0.776314    0.783461  0.000016   \n",
       "..     ...   ...        ...          ...         ...         ...       ...   \n",
       "195     47  mips  13.935230          500  150.541448  149.846329  0.000804   \n",
       "196     48   ips   0.814333          500    0.724820    0.769336  0.000663   \n",
       "197     48  mips  15.805814          500  199.942932  149.846329  3.605989   \n",
       "198     49   ips   0.786110          500    0.773672    0.769336  0.000006   \n",
       "199     49  mips  14.908454          500  175.370610  149.846329  1.003169   \n",
       "\n",
       "     true_value  \n",
       "0      1.620179  \n",
       "1      1.620179  \n",
       "2      1.620179  \n",
       "3      1.620179  \n",
       "4      1.620179  \n",
       "..          ...  \n",
       "195    1.665697  \n",
       "196    1.665697  \n",
       "197    1.665697  \n",
       "198    1.665697  \n",
       "199    1.665697  \n",
       "\n",
       "[200 rows x 8 columns]"
      ]
     },
     "execution_count": 55,
     "metadata": {},
     "output_type": "execute_result"
    }
   ],
   "source": [
    "result_df_actions"
   ]
  },
  {
   "cell_type": "code",
   "execution_count": 56,
   "metadata": {},
   "outputs": [
    {
     "data": {
      "text/plain": [
       "<matplotlib.legend.Legend at 0x25027031400>"
      ]
     },
     "execution_count": 56,
     "metadata": {},
     "output_type": "execute_result"
    },
    {
     "data": {
      "image/png": "[encoded data removed]",
      "text/plain": [
       "<Figure size 3500x1000 with 3 Axes>"
      ]
     },
     "metadata": {},
     "output_type": "display_data"
    }
   ],
   "source": [
    "fig, ax_list = plt.subplots(1, 3, figsize=(35, 10), tight_layout=True)\n",
    "for i, y in enumerate([\"se\", \"bias\", \"variance\"]):\n",
    "    ax = ax_list[i]\n",
    "    sns.lineplot(\n",
    "        markers=True,\n",
    "        markersize=40,\n",
    "        linewidth=7,\n",
    "        legend=False,\n",
    "        style=\"est\",\n",
    "        x=\"num_actions\",\n",
    "        y=y,\n",
    "        hue=\"est\",\n",
    "        ax=ax,\n",
    "        ci=None,\n",
    "        palette=[\"tab:red\", \"tab:orange\"],\n",
    "        data=result_df_actions.query(\"est == 'ips' or est == 'mips'\"),\n",
    "    )\n",
    "    ax.set_title(y_label_dict[y], fontsize=50)\n",
    "    # yaxis\n",
    "    ax.set_ylabel(\"\")\n",
    "    ax.set_ylim(0.0, 12.5)\n",
    "    ax.set_yticks([0, 2, 4, 6, 8, 10, 12])\n",
    "    ax.tick_params(axis=\"y\", labelsize=30)\n",
    "    ax.yaxis.set_label_coords(-0.1, 0.5)\n",
    "    # xaxis\n",
    "    ax.set_xscale(\"log\")\n",
    "    if i == 1:\n",
    "        ax.set_xlabel(r\"行動の数$|\\mathcal{A}|$\", fontsize=50)\n",
    "    else:\n",
    "        ax.set_xlabel(r\"\", fontsize=40)\n",
    "    ax.set_xticks(num_actions_list)\n",
    "    ax.set_xticklabels(num_actions_list, fontsize=30)\n",
    "    ax.xaxis.set_label_coords(0.5, -0.12)\n",
    "fig.legend([\"IPS\", \"MIPS\"], fontsize=50, bbox_to_anchor=(0.5, 1.15), ncol=4, loc=\"center\")"
   ]
  },
  {
   "cell_type": "code",
   "execution_count": null,
   "metadata": {},
   "outputs": [],
   "source": []
  },
  {
   "cell_type": "code",
   "execution_count": 52,
   "metadata": {},
   "outputs": [
    {
     "name": "stdout",
     "output_type": "stream",
     "text": [
      "[1 2 4 4 5]\n",
      "[1 2 4 4 5]\n"
     ]
    }
   ],
   "source": [
    "x = np.array([1,2,3,4,5])\n",
    "y = x\n",
    "y[2] = 4\n",
    "\n",
    "print(x)\n",
    "print(y)"
   ]
  },
  {
   "cell_type": "code",
   "execution_count": null,
   "metadata": {},
   "outputs": [],
   "source": []
  }
 ],
 "metadata": {
  "kernelspec": {
   "display_name": "cfml",
   "language": "python",
   "name": "python3"
  },
  "language_info": {
   "codemirror_mode": {
    "name": "ipython",
    "version": 3
   },
   "file_extension": ".py",
   "mimetype": "text/x-python",
   "name": "python",
   "nbconvert_exporter": "python",
   "pygments_lexer": "ipython3",
   "version": "3.9.5"
  }
 },
 "nbformat": 4,
 "nbformat_minor": 2
}
