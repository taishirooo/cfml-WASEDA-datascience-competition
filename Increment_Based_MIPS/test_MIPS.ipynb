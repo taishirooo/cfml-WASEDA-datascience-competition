{
 "cells": [
  {
   "cell_type": "code",
   "execution_count": 1,
   "metadata": {},
   "outputs": [],
   "source": [
    "import warnings\n",
    "warnings.filterwarnings('ignore')\n",
    "\n",
    "import numpy as np\n",
    "import pandas as pd\n",
    "from pandas import DataFrame\n",
    "from tqdm import tqdm\n",
    "from sklearn.utils import check_random_state\n",
    "import seaborn as sns\n",
    "import matplotlib.pyplot as plt\n",
    "import japanize_matplotlib\n",
    "plt.style.use('ggplot')\n",
    "y_label_dict = {\"se\": \"左図：平均二乗誤差\", \"bias\": \"中図：二乗バイアス\", \"variance\": \"右図：バリアンス\"}\n",
    "from copy import copy\n",
    "from dataset import generate_synthetic_data, calc_true_value, \n",
    "from estimators import calc_avg, calc_ips, calc_mips, calc_new_ips, calc_new_mips\n",
    "from utils import eps_greedy_policy, aggregate_simulation_results, remove_outliers"
   ]
  },
  {
   "cell_type": "code",
   "execution_count": 2,
   "metadata": {},
   "outputs": [],
   "source": [
    "from sklearn.utils import check_random_state\n",
    "from scipy.stats import rankdata\n",
    "import numpy as np\n",
    "from utils import sample_action_fast, sigmoid, softmax, eps_greedy_policy"
   ]
  },
  {
   "cell_type": "code",
   "execution_count": 3,
   "metadata": {},
   "outputs": [],
   "source": [
    "def generate_waseda_student_data3(\n",
    "    num_data: int,\n",
    "    phi_a: np.ndarray,\n",
    "    theta_g_0: np.ndarray,#以下q0の値\n",
    "    M_g_0: np.ndarray,\n",
    "    b_g_0: np.ndarray,\n",
    "    theta_h_0: np.ndarray,\n",
    "    M_h_0: np.ndarray,\n",
    "    b_h_0: np.ndarray,\n",
    "    theta_g_1: np.ndarray,  # 以下 q1 の値\n",
    "    M_g_1: np.ndarray,\n",
    "    b_g_1: np.ndarray,\n",
    "    theta_h_1: np.ndarray,\n",
    "    M_h_1: np.ndarray,\n",
    "    b_h_1: np.ndarray,\n",
    "    lambda1_: float ,\n",
    "    lambda0_: float ,\n",
    "    dim_context: int ,\n",
    "    num_actions: int ,\n",
    "    num_clusters: int ,\n",
    "    beta: float ,\n",
    "    num_def_actions: int = 0 ,\n",
    "    random_state: int = 12345,\n",
    ") -> dict:\n",
    "    \"\"\"行動特徴量を活用したオフ方策評価におけるログデータを生成する.\"\"\"\n",
    "    random_ = check_random_state(random_state)\n",
    "    x = random_.normal(size=(num_data, dim_context))\n",
    "    one_hot_a, one_hot_c = np.eye(num_actions), np.eye(num_clusters)\n",
    "    \n",
    "    # 期待報酬関数1を定義する\n",
    "    g_x_c_1 = (\n",
    "            (x - x ** 2 -x**3) @ theta_g_1 + (x ** 3 + x ** 2 ) @ M_g_1 @ one_hot_c + b_g_1\n",
    "        ) / 10\n",
    "    h_x_a_1 = (\n",
    "            (x ** 3 + x ** 2 ) @ theta_h_1 + (x - x ** 2 - x**3) @ M_h_1 @ one_hot_a + b_h_1\n",
    "        ) / 10\n",
    "    q_x_a_1 = (1 - lambda1_) * g_x_c_1[:, phi_a] + lambda1_ * h_x_a_1\n",
    "\n",
    "    #期待報酬関数０を定義する\n",
    "    g_x_c_0 = (\n",
    "            (x - x ** 2) @ theta_g_0 + (x ** 3 + x ** 2 - x) @ M_g_0 @ one_hot_c + b_g_0\n",
    "        ) / 10\n",
    "    h_x_a_0 = (\n",
    "            (x ** 3 + x ** 2 - x) @ theta_h_0 + (x - x ** 2) @ M_h_0 @ one_hot_a + b_h_0\n",
    "        ) / 10\n",
    "    q_x_a_0 = (1 - lambda0_) * g_x_c_0[:, phi_a] + lambda0_ * h_x_a_0\n",
    "\n",
    "    #期待報酬関数の差をCATEとして定義\n",
    "    cate_x_a = q_x_a_1 - q_x_a_0\n",
    "\n",
    "    #データ収集方策を定義する\n",
    "    pi_0 = softmax(beta*cate_x_a)\n",
    "    pi_0[:, :num_def_actions] = 0\n",
    "    pi_0 = pi_0 / pi_0.sum(1)[:, np.newaxis]\n",
    "\n",
    "    # 行動や報酬を抽出する\n",
    "    a = sample_action_fast(pi_0, random_state=random_state)\n",
    "    a_mat = np.zeros((num_data, num_actions), dtype=int)\n",
    "    a_mat[np.arange(num_data), a] = 1\n",
    "    pscore_mat = a_mat * pi_0 + (1 - a_mat) * (1 - pi_0)\n",
    "\n",
    "    q_x_a_factual = a_mat * q_x_a_1 + (1 - a_mat) * q_x_a_0\n",
    "    r_mat = random_.normal(q_x_a_factual)\n",
    "    \n",
    "    c = phi_a[a]\n",
    "    c_mat = np.zeros((num_data,num_clusters))\n",
    "    for i in range(num_data):\n",
    "        c_mat[i,c[i]] = 1\n",
    "    \n",
    "\n",
    "    return dict(\n",
    "        num_data=num_data, # データの数\n",
    "        num_actions=num_actions, #アクション数\n",
    "        num_clusters = num_clusters,\n",
    "        x=x,  #特徴量\n",
    "        a=a,   #行動\n",
    "        c = c, \n",
    "        c_mat = c_mat,     \n",
    "        r=r_mat[np.arange(num_data), a],\n",
    "        a_mat=a_mat,\n",
    "        r_mat=r_mat,\n",
    "        phi_a = phi_a,\n",
    "        pi_0=pi_0,\n",
    "        pscore=pi_0[np.arange(num_data), a],\n",
    "        pscore_mat=pscore_mat,\n",
    "        g_x_c_1=(1 - lambda1_) * g_x_c_1,\n",
    "        h_x_a_1=lambda1_ * h_x_a_1,\n",
    "        g_x_c_0=(1 - lambda0_) * g_x_c_0,\n",
    "        h_x_a_0=lambda0_ * h_x_a_0,\n",
    "        q_x_a_1=q_x_a_1,\n",
    "        q_x_a_0=q_x_a_0,\n",
    "        cate_x_a=cate_x_a,\n",
    "    )\n",
    "    "
   ]
  },
  {
   "cell_type": "code",
   "execution_count": 4,
   "metadata": {},
   "outputs": [],
   "source": [
    "def generate_waseda_student_data3(\n",
    "    num_data: int,\n",
    "    phi_a: np.ndarray,\n",
    "    theta_g_0: np.ndarray,  # 以下 q0 の値\n",
    "    M_g_0: np.ndarray,\n",
    "    b_g_0: np.ndarray,\n",
    "    theta_h_0: np.ndarray,\n",
    "    M_h_0: np.ndarray,\n",
    "    b_h_0: np.ndarray,\n",
    "    theta_g_1: np.ndarray,  # 以下 q1 の値\n",
    "    M_g_1: np.ndarray,\n",
    "    b_g_1: np.ndarray,\n",
    "    theta_h_1: np.ndarray,\n",
    "    M_h_1: np.ndarray,\n",
    "    b_h_1: np.ndarray,\n",
    "    lambda1_: float,\n",
    "    lambda0_: float,\n",
    "    dim_context: int,\n",
    "    num_actions: int,\n",
    "    num_clusters: int,\n",
    "    beta: float,\n",
    "    num_def_actions: int = 0,\n",
    "    random_state: int = 12345,\n",
    ") -> dict:\n",
    "    \"\"\"行動特徴量を活用したオフ方策評価におけるログデータを生成する.\"\"\"\n",
    "    random_ = check_random_state(random_state)\n",
    "    x = random_.normal(size=(num_data, dim_context))\n",
    "    one_hot_a, one_hot_c = np.eye(num_actions), np.eye(num_clusters)\n",
    "    \n",
    "    # 期待報酬関数1を定義する\n",
    "    g_x_c_1 = np.clip(\n",
    "        ((x - x**2 - x**3) @ theta_g_1 + (x**3 + x**2) @ M_g_1 @ one_hot_c + b_g_1) / 10,\n",
    "        0,\n",
    "        None,\n",
    "    )\n",
    "    h_x_a_1 = np.clip(\n",
    "        ((x**3 + x**2) @ theta_h_1 + (x - x**2 - x**3) @ M_h_1 @ one_hot_a + b_h_1) / 10,\n",
    "        0,\n",
    "        None,\n",
    "    )\n",
    "    q_x_a_1 = np.clip((1 - lambda1_) * g_x_c_1[:, phi_a] + lambda1_ * h_x_a_1, 0, None)\n",
    "\n",
    "    # 期待報酬関数0を定義する\n",
    "    g_x_c_0 = np.clip(\n",
    "        ((x - x**2) @ theta_g_0 + (x**3 + x**2 - x) @ M_g_0 @ one_hot_c + b_g_0) / 10,\n",
    "        0,\n",
    "        None,\n",
    "    )\n",
    "    h_x_a_0 = np.clip(\n",
    "        ((x**3 + x**2 - x) @ theta_h_0 + (x - x**2) @ M_h_0 @ one_hot_a + b_h_0) / 10,\n",
    "        0,\n",
    "        None,\n",
    "    )\n",
    "    q_x_a_0 = np.clip((1 - lambda0_) * g_x_c_0[:, phi_a] + lambda0_ * h_x_a_0, 0, None)\n",
    "\n",
    "    # 期待報酬関数の差を CATE として定義\n",
    "    cate_x_a = q_x_a_1 - q_x_a_0\n",
    "\n",
    "    # データ収集方策を定義する\n",
    "    pi_0 = softmax(beta * cate_x_a)\n",
    "    pi_0[:, :num_def_actions] = 0\n",
    "    pi_0 = pi_0 / pi_0.sum(1)[:, np.newaxis]\n",
    "\n",
    "    # 行動や報酬を抽出する\n",
    "    a = sample_action_fast(pi_0, random_state=random_state)\n",
    "    a_mat = np.zeros((num_data, num_actions), dtype=int)\n",
    "    a_mat[np.arange(num_data), a] = 1\n",
    "    pscore_mat = a_mat * pi_0 + (1 - a_mat) * (1 - pi_0)\n",
    "\n",
    "    q_x_a_factual = np.clip(a_mat * q_x_a_1 + (1 - a_mat) * q_x_a_0, 0, None)\n",
    "    r_mat = np.clip(random_.normal(q_x_a_factual, scale=0.1), 0, None)  # 報酬を正値に制約\n",
    "\n",
    "    c = phi_a[a]\n",
    "    c_mat = np.zeros((num_data, num_clusters))\n",
    "    cluster_num = np.zeros(num_data, int)\n",
    "        \n",
    "    for i in range(num_data):\n",
    "        c_mat[i, c[i]] = 1\n",
    "        cluster_num[i] = np.sum(phi_a == c[i])\n",
    "\n",
    "    return dict(\n",
    "        num_data=num_data,  # データの数\n",
    "        num_actions=num_actions,  # アクション数\n",
    "        num_clusters=num_clusters,\n",
    "        x=x,  # 特徴量\n",
    "        a=a,  # 行動\n",
    "        c=c,\n",
    "        c_mat=c_mat,\n",
    "        r=r_mat[np.arange(num_data), a],\n",
    "        a_mat=a_mat,\n",
    "        r_mat=r_mat,\n",
    "        phi_a=phi_a,\n",
    "        pi_0=pi_0,\n",
    "        pscore=pi_0[np.arange(num_data), a],\n",
    "        pscore_mat=pscore_mat,\n",
    "        g_x_c_1=(1 - lambda1_) * g_x_c_1,\n",
    "        h_x_a_1=lambda1_ * h_x_a_1,\n",
    "        g_x_c_0=(1 - lambda0_) * g_x_c_0,\n",
    "        h_x_a_0=lambda0_ * h_x_a_0,\n",
    "        q_x_a_1=q_x_a_1,\n",
    "        q_x_a_0=q_x_a_0,\n",
    "        cate_x_a=cate_x_a,\n",
    "        cluster_num= cluster_num\n",
    "    )\n"
   ]
  },
  {
   "cell_type": "code",
   "execution_count": 5,
   "metadata": {},
   "outputs": [],
   "source": [
    "def calc_true_value2(\n",
    "    dim_context: int,\n",
    "    num_actions: int,\n",
    "    num_clusters: int,\n",
    "    phi_a: np.ndarray,\n",
    "    theta_g_0,\n",
    "    M_g_0,\n",
    "    b_g_0,\n",
    "    theta_h_0,\n",
    "    M_h_0,\n",
    "    b_h_0,\n",
    "    theta_g_1,\n",
    "    M_g_1,\n",
    "    b_g_1,\n",
    "    theta_h_1,\n",
    "    M_h_1,\n",
    "    b_h_1,\n",
    "    lambda0_,\n",
    "    lambda1_,\n",
    "    beta\n",
    "):\n",
    "    \"\"\"評価方策の真の性能を近似する.\"\"\"\n",
    "    test_bandit_data = generate_waseda_student_data3(\n",
    "        num_data=10000,\n",
    "        dim_context=dim_context,\n",
    "        num_actions=num_actions,\n",
    "        num_clusters=num_clusters,\n",
    "        phi_a=phi_a,\n",
    "        theta_g_0=theta_g_0,\n",
    "        M_g_0=M_g_0,\n",
    "        b_g_0=b_g_0,\n",
    "        theta_h_0=theta_h_0,\n",
    "        M_h_0=M_h_0,\n",
    "        b_h_0=b_h_0,\n",
    "        theta_g_1=theta_g_1,\n",
    "        M_g_1=M_g_1,\n",
    "        b_g_1=b_g_1,\n",
    "        theta_h_1=theta_h_1,\n",
    "        M_h_1=M_h_1,\n",
    "        b_h_1=b_h_1,\n",
    "        lambda0_=lambda0_,\n",
    "        lambda1_=lambda1_,\n",
    "        beta=beta,\n",
    "    )\n",
    "\n",
    "    cate_x_a = test_bandit_data[\"cate_x_a\"]\n",
    "    pi =eps_greedy_policy(cate_x_a)\n",
    "    \n",
    "    q_x_a_1 =test_bandit_data[\"q_x_a_1\"]\n",
    "    q_x_a_0 = test_bandit_data[\"q_x_a_0\"]\n",
    "\n",
    "    return ((q_x_a_1-q_x_a_0)*pi).sum(1).mean()\n",
    "    #return (q_x_a_0*pi).sum(1).mean()\n",
    "    #return (q_x_a_1*pi).sum(1).mean()\n"
   ]
  },
  {
   "cell_type": "code",
   "execution_count": 6,
   "metadata": {},
   "outputs": [],
   "source": [
    "def calc_new_mips_takashi(\n",
    "    dataset:dict, \n",
    "    pi:np.ndarray,\n",
    "    replace_c:int = 0,\n",
    "    is_estimate_w: bool = False\n",
    "    ) ->float:\n",
    "    \n",
    "    num_data = dataset[\"num_data\"]\n",
    "    num_actions, num_clusters = dataset[\"num_actions\"], dataset[\"num_clusters\"]\n",
    "    x, a, c, r = dataset[\"x\"], dataset[\"a\"], copy(dataset[\"c\"]),dataset[\"r\"]\n",
    "    pi_0, phi_a = dataset[\"pi_0\"], copy(dataset[\"phi_a\"])\n",
    "    min_value, max_value = r.min(), r.max()\n",
    "    #actionしない行動確率を定義\n",
    "    a_mat, r_mat = dataset[\"a_mat\"], copy(dataset[\"r_mat\"])\n",
    "    c_mat = dataset[\"c_mat\"]\n",
    "    not_c_mat = 1 - c_mat\n",
    "\n",
    " \n",
    "    if replace_c > 0:\n",
    "        #replace_c個のクラスタをnum_clusters - replace_c - 1に結合\n",
    "        c[c >= num_clusters - replace_c] = num_clusters - replace_c - 1\n",
    "        phi_a[phi_a >= num_clusters - replace_c] = num_clusters - replace_c - 1\n",
    "\n",
    "\n",
    "    if is_estimate_w:#p(a|e,x)の推定\n",
    "        x_c = np.c_[x, np.eye(num_clusters)[c]]\n",
    "        print(x.shape)\n",
    "        print(x_c.shape)\n",
    "        pi_a_x_c_model = LogisticRegression(C=5, random_state=12345)\n",
    "        pi_a_x_c_model.fit(x_c, a)\n",
    "\n",
    "        w_x_a_full = pi / pi_0\n",
    "        pi_a_x_c_hat = np.zeros((num_data, num_actions))\n",
    "        pi_a_x_c_hat[:, np.unique(a)] = pi_a_x_c_model.predict_proba(x_c)\n",
    "        print(pi_a_x_c_hat.shape)\n",
    "        w_x_c_hat = (pi_a_x_c_hat * w_x_a_full).sum(1)\n",
    "\n",
    "        return np.clip((w_x_c_hat * r).mean(), min_value, max_value)\n",
    "\n",
    "    else:#p(e|a,x)=1としている\n",
    "        pi_0_c = np.zeros((num_data, num_clusters - replace_c))\n",
    "        pi_c = np.zeros((num_data, num_clusters - replace_c))\n",
    "        r_c_mat = np.zeros((num_data, num_clusters - replace_c))\n",
    "        \n",
    "        for c_ in range(num_clusters - replace_c):\n",
    "            pi_0_c[:, c_] = pi_0[:, phi_a == c_].sum(1)\n",
    "            pi_c[:, c_] = pi[:, phi_a == c_].sum(1)\n",
    "            \n",
    "            r_c_mat[:,c_] = r_mat[:,phi_a == c_].sum(1)\n",
    "            \n",
    "        # (1) π(e_i|x_i) / π_0(e_i|x_i) * r_i(e_i, 0)\n",
    "        w_x_c_1 = pi_c[np.arange(num_data), c] / pi_0_c[np.arange(num_data), c]\n",
    "        #term1 = w_x_c_1 * r  # 第一項\n",
    "\n",
    "        # (2) Σ_(e ∈ E/{e_i}) ((1 - π(e|x)) / (1 - π_0(e|x)) * r_i(e, 0))\n",
    "        # 非選択アクションの重みと報酬を計算\n",
    "        #denom = 1 - (pi_0_c * not_c_mat)  # 1 - π_0(e|x)\n",
    "        #denom[denom == 0] = 1  # ゼロ割りを防止\n",
    "        #w_x_c_0 = (not_c_mat - (pi_c * not_c_mat)) / denom  # 重み\n",
    "        #w_x_c_0 = np.nan_to_num(w_x_c_0, nan=0)     # NaN を 0 に置換\n",
    "        #term2 = (w_x_c_0 * r_c_mat).sum(axis=1)     # 第二項\n",
    "        \n",
    "        w_x_c_0 = (pi_c* not_c_mat)/ (not_c_mat -(pi_0_c*not_c_mat))\n",
    "        #nanを０に変更\n",
    "        w_x_c_0 = np.nan_to_num(w_x_c_0, nan=0)\n",
    "        #print(w_x_c_1.shape)\n",
    "        #print(w_x_c_0.shape)\n",
    "        #print(w_x_c_0[0])\n",
    "        \n",
    "        \n",
    "        #print((w_x_c_1 * r).shape)\n",
    "        #print(((w_x_c_0*not_r_c_mat).sum(1)).shape)\n",
    "        \n",
    "        # 全体の報酬\n",
    "        #total_reward = term1 + term2\n",
    "        #return total_reward.mean()\n",
    "        #print(\"w_x_c_0*r_c_mat:\" ,(w_x_c_0*r_c_mat).shape)\n",
    "        temp1 = w_x_c_1 * r \n",
    "        temp2 = (w_x_c_0*r_c_mat).sum(1)\n",
    "        #return np.clip((temp1-temp2).mean(), min_value, max_value)\n",
    "        return temp2.mean()\n",
    "    \n",
    "    "
   ]
  },
  {
   "cell_type": "code",
   "execution_count": 7,
   "metadata": {},
   "outputs": [],
   "source": [
    "def calc_new_mips_takashi2(\n",
    "    dataset:dict, \n",
    "    pi:np.ndarray,\n",
    "    q0_hat,\n",
    "    ) ->float:\n",
    "    \n",
    "    num_data = dataset[\"num_data\"]\n",
    "    num_actions, num_clusters = dataset[\"num_actions\"], dataset[\"num_clusters\"]\n",
    "    x, a, c, r = dataset[\"x\"], dataset[\"a\"], dataset[\"c\"],dataset[\"r\"]\n",
    "    pi_0, phi_a = dataset[\"pi_0\"], dataset[\"phi_a\"]\n",
    "    min_value, max_value = r.min(), r.max()\n",
    "    #actionしない行動確率を定義\n",
    "    a_mat, r_mat = dataset[\"a_mat\"], dataset[\"r_mat\"]\n",
    "    c_mat = dataset[\"c_mat\"]\n",
    "    not_c_mat = 1 - c_mat\n",
    "\n",
    "\n",
    "  #p(e|a,x)=1としている\n",
    "    pi_0_c = np.zeros((num_data, num_clusters ))\n",
    "    pi_c = np.zeros((num_data, num_clusters ))\n",
    "    r_c_mat = np.zeros((num_data, num_clusters ))\n",
    "        \n",
    "    for c_ in range(num_clusters ):\n",
    "        pi_0_c[:, c_] = pi_0[:, phi_a == c_].sum(1)\n",
    "        pi_c[:, c_] = pi[:, phi_a == c_].sum(1)\n",
    "        r_c_mat[:,c_] = r_mat[:,phi_a == c_].sum(1)\n",
    "           \n",
    "    # (1) π(e_i|x_i) / π_0(e_i|x_i) * r_i(e_i, 0)\n",
    "    #w_x_c_1 = pi_c[np.arange(num_data), c] / pi_0_c[np.arange(num_data), c]\n",
    "    \n",
    "    w_x_c_1 = (pi_c*c_mat)/pi_0_c\n",
    "        \n",
    "    w_x_c_0 = (2 * pi_c* not_c_mat)/ (1 - pi_0_c)\n",
    "        #nanを０に変更\n",
    "    w_x_c_1 = np.nan_to_num(w_x_c_1,nan=0)\n",
    "    w_x_c_0 = np.nan_to_num(w_x_c_0, nan=0)\n",
    "    #print(w_x_c_1.shape)\n",
    "    #print(w_x_c_0.shape)\n",
    "    #print(w_x_c_0[0])\n",
    "        \n",
    "        \n",
    "    #print((w_x_c_1 * r).shape)\n",
    "    #print(((w_x_c_0*not_r_c_mat).sum(1)).shape)\n",
    "       \n",
    "    # 全体の報酬\n",
    "    #total_reward = term1 + term2\n",
    "    #return total_reward.mean()\n",
    "    #print(\"w_x_c_0*r_c_mat:\" ,(w_x_c_0*r_c_mat).shape)\n",
    "    \n",
    "    \n",
    "    \"\"\"q1(x,e)によって発生する|ε|*q0(x,a')の重みの追加\"\"\"\n",
    "    temp3 =  q0_hat[np.arange(num_data),a]\n",
    "    #print(f\"temp3:{temp3[0]}\")\n",
    "    temp1 = w_x_c_1 * r_c_mat\n",
    "    #print(f\"temp1:{temp1[0]}\")\n",
    "    #temp1 = w_x_c_1.sum(1) * r\n",
    "    temp2 = w_x_c_0*r_c_mat\n",
    "    #print(f\"temp2:{temp2[0]}\")\n",
    "    return (temp1.sum(1) -temp2.sum(1) + temp3).mean()\n",
    "    #return temp2.sum(1).mean()\n",
    "    #return temp1.sum(1).mean()"
   ]
  },
  {
   "cell_type": "markdown",
   "metadata": {},
   "source": [
    "### 12/21 提案手法"
   ]
  },
  {
   "cell_type": "code",
   "execution_count": 8,
   "metadata": {},
   "outputs": [],
   "source": [
    "def calc_new_mips_takashi2(\n",
    "    dataset:dict, \n",
    "    pi:np.ndarray,\n",
    "    a_cluster_mat,\n",
    "    ) ->float:\n",
    "    \n",
    "    num_data = dataset[\"num_data\"]\n",
    "    num_actions, num_clusters = dataset[\"num_actions\"], dataset[\"num_clusters\"]\n",
    "    x, a, c, r = dataset[\"x\"], dataset[\"a\"], dataset[\"c\"],dataset[\"r\"]\n",
    "    pi_0, phi_a = dataset[\"pi_0\"], dataset[\"phi_a\"]\n",
    "    min_value, max_value = r.min(), r.max()\n",
    "    #actionしない行動確率を定義\n",
    "    a_mat, r_mat = dataset[\"a_mat\"], dataset[\"r_mat\"]\n",
    "    c_mat = dataset[\"c_mat\"]\n",
    "    not_c_mat = 1 - c_mat\n",
    "\n",
    "\n",
    "  #p(e|a,x)=1としている\n",
    "    pi_0_c = np.zeros((num_data, num_clusters ))\n",
    "    pi_c = np.zeros((num_data, num_clusters ))\n",
    "    r_c_mat = np.zeros((num_data, num_clusters ))\n",
    "        \n",
    "    for c_ in range(num_clusters ):\n",
    "        pi_0_c[:, c_] = pi_0[:, phi_a == c_].sum(1)\n",
    "        pi_c[:, c_] = pi[:, phi_a == c_].sum(1)\n",
    "        r_c_mat[:,c_] = r_mat[:,phi_a == c_].sum(1)\n",
    "           \n",
    "    # (1) π(e_i|x_i) / π_0(e_i|x_i) * r_i(e_i, 0)\n",
    "    #w_x_c_1 = pi_c[np.arange(num_data), c] / pi_0_c[np.arange(num_data), c]\n",
    "    \n",
    "    w_x_c_1 = (pi_c*c_mat)/pi_0_c\n",
    "        \n",
    "    w_x_c_0 = ( pi_c* not_c_mat)/ (1 - pi_0_c)\n",
    "        #nanを０に変更\n",
    "    w_x_c_1 = np.nan_to_num(w_x_c_1,nan=0)\n",
    "    w_x_c_0 = np.nan_to_num(w_x_c_0, nan=0)\n",
    "    #print(w_x_c_1.shape)\n",
    "    #print(w_x_c_0.shape)\n",
    "    #print(w_x_c_0[0])\n",
    "        \n",
    "        \n",
    "    #print((w_x_c_1 * r).shape)\n",
    "    #print(((w_x_c_0*not_r_c_mat).sum(1)).shape)\n",
    "       \n",
    "    # 全体の報酬\n",
    "    #total_reward = term1 + term2\n",
    "    #return total_reward.mean()\n",
    "    #print(\"w_x_c_0*r_c_mat:\" ,(w_x_c_0*r_c_mat).shape)\n",
    "\n",
    "    #print(f\"temp3:{temp3[0]}\")\n",
    "    r_hat  = a_cluster_mat.sum(1)\n",
    "    \n",
    "    #print(f\"temp1:{temp1[0]}\")\n",
    "    temp1 = w_x_c_1.sum(1) * (r + r_hat)\n",
    "    temp2 = w_x_c_0*r_c_mat\n",
    "    #print(f\"temp2:{temp2[0]}\")\n",
    "    return (temp1 -temp2.sum(1) ).mean()\n",
    "    #return temp2.sum(1).mean()\n",
    "    #return temp1.sum(1).mean()"
   ]
  },
  {
   "cell_type": "markdown",
   "metadata": {},
   "source": [
    "## 12/25"
   ]
  },
  {
   "cell_type": "code",
   "execution_count": 9,
   "metadata": {},
   "outputs": [],
   "source": [
    "def calc_new_mips_takashi2(\n",
    "    dataset:dict, \n",
    "    pi:np.ndarray,\n",
    "    cluster_num,\n",
    "    ) ->float:\n",
    "    \n",
    "    num_data = dataset[\"num_data\"]\n",
    "    num_actions, num_clusters = dataset[\"num_actions\"], dataset[\"num_clusters\"]\n",
    "    x, a, c, r = dataset[\"x\"], dataset[\"a\"], dataset[\"c\"],dataset[\"r\"]\n",
    "    pi_0, phi_a = dataset[\"pi_0\"], dataset[\"phi_a\"]\n",
    "    min_value, max_value = r.min(), r.max()\n",
    "    #actionしない行動確率を定義\n",
    "    a_mat, r_mat = dataset[\"a_mat\"], dataset[\"r_mat\"]\n",
    "    c_mat = dataset[\"c_mat\"]\n",
    "    not_c_mat = 1 - c_mat\n",
    "\n",
    "\n",
    "  #p(e|a,x)=1としている\n",
    "    pi_0_c = np.zeros((num_data, num_clusters ))\n",
    "    pi_c = np.zeros((num_data, num_clusters ))\n",
    "    r_c_mat = np.zeros((num_data, num_clusters ))\n",
    "        \n",
    "    for c_ in range(num_clusters ):\n",
    "        pi_0_c[:, c_] = pi_0[:, phi_a == c_].sum(1)\n",
    "        pi_c[:, c_] = pi[:, phi_a == c_].sum(1)\n",
    "        r_c_mat[:,c_] = r_mat[:,phi_a == c_].sum(1)\n",
    "           \n",
    "    # (1) π(e_i|x_i) / π_0(e_i|x_i) * r_i(e_i, 0)\n",
    "    #w_x_c_1 = pi_c[np.arange(num_data), c] / pi_0_c[np.arange(num_data), c]\n",
    "    \n",
    "    w_x_c_1 = (pi_c*c_mat)/pi_0_c\n",
    "        \n",
    "    w_x_c_0 = ( pi_c* not_c_mat)/ (1 - pi_0_c)\n",
    "        #nanを０に変更\n",
    "    w_x_c_1 = np.nan_to_num(w_x_c_1,nan=0)\n",
    "    w_x_c_0 = np.nan_to_num(w_x_c_0, nan=0)\n",
    "         \n",
    "  \n",
    "    temp1 = w_x_c_1.sum(1) * r \n",
    "    temp2 = w_x_c_0*r_c_mat\n",
    "    \n",
    "    #print(f\"temp2:{temp2[0]}\")\n",
    "    return (temp1 - temp2.sum(1) ).mean()\n",
    "    #return temp2.sum(1).mean()\n",
    "    #return temp1.mean()"
   ]
  },
  {
   "cell_type": "code",
   "execution_count": 10,
   "metadata": {},
   "outputs": [
    {
     "name": "stdout",
     "output_type": "stream",
     "text": [
      "[2 4 2 4 2]\n"
     ]
    }
   ],
   "source": [
    "cluster_num = np.zeros(5,int)\n",
    "phi_a = [1,2,3,4,5,6,4,2,2,4,5,6,3,2,1]\n",
    "c = [5,2,3,2,1]\n",
    "for i in range(len(c)):\n",
    "    cluster_num[i] = phi_a.count(c[i])\n",
    "    \n",
    "print(cluster_num)\n",
    "    \n",
    "    "
   ]
  },
  {
   "cell_type": "code",
   "execution_count": 11,
   "metadata": {},
   "outputs": [
    {
     "name": "stdout",
     "output_type": "stream",
     "text": [
      "5\n"
     ]
    }
   ],
   "source": [
    "print(len(c))"
   ]
  },
  {
   "cell_type": "code",
   "execution_count": 12,
   "metadata": {},
   "outputs": [
    {
     "name": "stdout",
     "output_type": "stream",
     "text": [
      "[[1. 1.]\n",
      " [0. 3.]]\n",
      "[[2 4]\n",
      " [1 4]]\n",
      "[6 5]\n",
      "5.5\n",
      "5.5\n"
     ]
    }
   ],
   "source": [
    "a = np.array([[1,2],[0,3]])\n",
    "b = np.array([[1,2],[1,1]])\n",
    "\n",
    "print(a/b)\n",
    "print(a+b)\n",
    "print((a+b).sum(1))\n",
    "print((a+b).sum(1).mean())\n",
    "print(((a+b).sum(1)).mean())"
   ]
  },
  {
   "cell_type": "code",
   "execution_count": 13,
   "metadata": {},
   "outputs": [
    {
     "name": "stdout",
     "output_type": "stream",
     "text": [
      "[]\n"
     ]
    }
   ],
   "source": [
    "print(a[:,:0])"
   ]
  },
  {
   "cell_type": "code",
   "execution_count": 14,
   "metadata": {},
   "outputs": [],
   "source": [
    "## シミュレーション設定\n",
    "num_runs = 50 # シミュレーションの繰り返し回数\n",
    "dim_context = 5 # 特徴量xの次元\n",
    "num_clusters = 50 # 行動クラスタ数\n",
    "num_data = 500 # ログデータのサイズ\n",
    "beta = -0.2 # データ収集方策のパラメータ\n",
    "lambda1_ = 0.0 # クラスタ効果と残差効果の配合率\n",
    "lambda0_ = 0.0\n",
    "random_state = 12345\n",
    "random1_ = check_random_state(random_state)\n",
    "random0_ = check_random_state(random_state+22)\n",
    "random_ = check_random_state(random_state+1)\n",
    "num_actions_list = [250, 500, 1000] # 行動数, |A|"
   ]
  },
  {
   "cell_type": "code",
   "execution_count": 15,
   "metadata": {},
   "outputs": [],
   "source": [
    "\n",
    "y_label_dict = {\"se\": \"左図：平均二乗誤差\", \"bias\": \"中図：二乗バイアス\", \"variance\": \"右図：バリアンス\"}\n",
    "\n"
   ]
  },
  {
   "cell_type": "code",
   "execution_count": 19,
   "metadata": {},
   "outputs": [
    {
     "name": "stdout",
     "output_type": "stream",
     "text": [
      "[[ 0.38891659  0.81538373 -0.55783045  0.58177086 -0.43192956  1.55735051\n",
      "   1.98114874 -1.34766489 -1.06468626  0.42651421 -0.88704359 -0.6627808\n",
      "   1.10866249  0.49501068 -1.14894616 -0.13776734 -0.51476685 -0.07786348\n",
      "  -0.92060268 -0.16373255 -0.86650274  1.14803927 -0.58756878 -1.21414003\n",
      "  -2.75465668  1.83698712 -0.91773567 -0.2777863   0.80771723 -1.2257669\n",
      "   0.0436376   0.16727577  0.42791476 -0.18937547  1.14348355 -0.58837349\n",
      "   0.03106784  0.92020771  0.5857872  -0.67886817 -0.12422952 -1.48959221\n",
      "   1.13822426  0.18889079  0.14882474 -2.25188854  0.06977972  0.24252046\n",
      "  -0.94907824  1.12784641]\n",
      " [-0.82040597  2.05093064 -1.36047189  2.0230884   0.32416064  0.66142632\n",
      "   0.42887755  1.57020537 -0.20180493  1.59707187  0.36612101  0.16847201\n",
      "   1.6222151  -0.1045724  -0.43015537  0.76499165 -0.53145635 -0.59063336\n",
      "   0.04186406  0.2902613  -0.46716148 -2.22067504  0.9648035   0.65178403\n",
      "   0.4280491  -0.79580381  1.62060083  0.93026083  0.2032194   0.21464528\n",
      "   2.30349752 -0.06061644 -0.23518272 -0.22688653  0.26624609  1.35132281\n",
      "   1.78804722 -0.61393207 -0.51237271  1.98536612 -1.15923702  1.42891789\n",
      "   0.70143965 -0.03892242  0.11030593 -0.78019874 -1.06470918 -0.49737544\n",
      "  -0.65193017  1.41621419]\n",
      " [-0.31206423  1.03987899  1.22635562 -1.59867596  1.33092464  0.77348232\n",
      "   1.3041075  -0.59893827 -1.34072187  0.93547189 -0.61444294 -2.16535189\n",
      "  -0.21282187 -0.29095781 -0.45880281  0.21454642 -2.39874461 -0.73234707\n",
      "   1.44707667  0.90775194  1.01993955  1.34841115  0.20220414 -0.1175071\n",
      "   0.73614953 -1.02696686  0.34865751 -2.32753238 -0.43055822  1.38776838\n",
      "  -0.12389098 -0.0595078  -1.00733081  1.45879282 -1.29447888 -1.85184128\n",
      "   0.72226366  0.75318835 -0.41857179 -0.35751883 -2.86398338 -1.9141704\n",
      "   0.09050223 -0.51430823 -1.13214241 -0.15650931 -0.25062685 -1.70367417\n",
      "  -0.62259007  1.08436403]\n",
      " [-0.06359483 -1.23832354 -0.36430194 -0.27201941 -0.01470335  0.82159043\n",
      "  -0.43330223  1.57374464  0.35963308  1.12197034  0.19586186 -1.30721715\n",
      "  -0.84882464 -0.9037696  -0.33747663 -1.20755954  1.11669293  0.46052022\n",
      "   0.41612901 -0.62813199 -1.26224451  0.16654751  1.12733228 -0.99989358\n",
      "   0.57131344  0.11772893  0.05375247 -0.30337493 -0.74584063 -0.47071522\n",
      "  -0.41041847 -2.31163239  0.10414759 -0.56043602  0.49295594 -0.63383225\n",
      "   0.19290467  0.18266951  1.20433748 -0.38492464  1.61657408  0.23393528\n",
      "  -0.10669983 -0.33720327 -0.52174356 -0.88095135  0.5469416  -0.31797572\n",
      "   0.47430061  1.89513978]\n",
      " [ 0.89303465 -0.942759    0.89822788 -0.81533974 -0.16055593 -0.92727836\n",
      "   0.28375574 -1.07800641  0.53233519 -0.09870006 -0.68253634  2.01022066\n",
      "   0.34504804  0.09233817  1.36738525 -0.51493312  1.6988022  -1.72189785\n",
      "   0.66113511 -0.38825811 -0.58327262 -1.95940502 -0.18668559 -0.50488884\n",
      "  -1.08579923 -0.00326366  1.60013076 -2.09067867 -1.11096142 -0.65913798\n",
      "  -1.00613598  0.92369273  1.09125588 -1.1525171   2.80275219  0.29548092\n",
      "   0.21409999  0.80406503 -0.15968927 -1.10018341 -0.06207686 -0.15548249\n",
      "  -0.70062641 -1.58887592  0.71218175 -0.24846076 -0.73027263  0.81603213\n",
      "  -0.74764786 -1.12777603]]\n"
     ]
    }
   ],
   "source": [
    "print(M_g_0)"
   ]
  },
  {
   "cell_type": "code",
   "execution_count": 17,
   "metadata": {},
   "outputs": [
    {
     "name": "stderr",
     "output_type": "stream",
     "text": [
      "num_actions=250...: 100%|██████████| 50/50 [00:02<00:00, 16.88it/s]\n",
      "num_actions=500...: 100%|██████████| 50/50 [00:06<00:00,  7.62it/s]\n",
      "num_actions=1000...: 100%|██████████| 50/50 [00:10<00:00,  4.55it/s]\n"
     ]
    }
   ],
   "source": [
    "result_df_list = []\n",
    "theta_g_1 = random1_.normal(size=(dim_context, num_clusters))\n",
    "M_g_1 = random1_.normal(size=(dim_context, num_clusters))\n",
    "b_g_1 = random1_.normal(size=(1, num_clusters))\n",
    "theta_g_0 = random0_.normal(size=(dim_context, num_clusters))\n",
    "M_g_0 = random0_.normal(size=(dim_context, num_clusters))\n",
    "b_g_0 = random0_.normal(size=(1, num_clusters))\n",
    "\n",
    "for num_actions in num_actions_list:\n",
    "    ## 期待報酬関数を定義するためのパラメータを抽出\n",
    "    #phi_a = random_.choice(num_clusters, size=num_actions)\n",
    "    phi_a = random_.choice(num_clusters, size=num_actions)\n",
    "\n",
    "    theta_h_1 = random1_.normal(size=(dim_context, num_actions))\n",
    "    M_h_1 = random1_.normal(size=(dim_context, num_actions))\n",
    "    b_h_1 = random1_.normal(size=(1, num_actions))\n",
    "\n",
    "    theta_h_0 = random0_.normal(size=(dim_context, num_actions))\n",
    "    M_h_0 = random0_.normal(size=(dim_context, num_actions))\n",
    "    b_h_0 = random0_.normal(size=(1, num_actions))\n",
    "    \n",
    "\n",
    "    ## 評価方策の真の性能(policy value)を計算\n",
    "    policy_value = calc_true_value2(\n",
    "        dim_context=dim_context, num_actions=num_actions, num_clusters=num_clusters, phi_a=phi_a,\n",
    "        theta_g_0=theta_g_0,M_g_0=M_g_0,b_g_0=b_g_0,theta_h_0=theta_h_0,\n",
    "        M_h_0=M_h_0,b_h_0=b_h_0,theta_g_1=theta_g_1,M_g_1=M_g_1,\n",
    "        b_g_1=b_g_1,theta_h_1=theta_h_1,M_h_1=M_h_1,\n",
    "        b_h_1=b_h_1,lambda0_=lambda0_,lambda1_=lambda1_,beta=beta\n",
    "    )\n",
    "\n",
    "    estimated_policy_value_list = []        \n",
    "        \n",
    "    for _ in tqdm(range(num_runs), desc=f\"num_actions={num_actions}...\"):\n",
    "        ## データ収集方策が形成する分布に従いログデータを生成\n",
    "        offline_logged_data = generate_waseda_student_data3(\n",
    "            num_data=num_data, phi_a=phi_a,\n",
    "            theta_g_0=theta_g_0,M_g_0=M_g_0,b_g_0=b_g_0,theta_h_0=theta_h_0,\n",
    "            M_h_0=M_h_0,b_h_0=b_h_0,theta_g_1=theta_g_1,M_g_1=M_g_1,\n",
    "            b_g_1=b_g_1,theta_h_1=theta_h_1,M_h_1=M_h_1,\n",
    "            b_h_1=b_h_1,lambda0_=lambda0_,lambda1_=lambda1_,\n",
    "            dim_context=dim_context, num_actions=num_actions, num_clusters=num_clusters,beta=beta, random_state = _\n",
    "        )\n",
    "\n",
    "        ## ログデータ上における評価方策の行動選択確率を計算\n",
    "        pi = eps_greedy_policy(offline_logged_data[\"cate_x_a\"])\n",
    "     \n",
    "        ## ログデータを用いてオフ方策評価を実行する\n",
    "        estimated_policy_values = dict()\n",
    "        estimated_policy_values[\"ips\"] = calc_new_ips(offline_logged_data, pi)\n",
    "        estimated_policy_values[\"mips\"] = calc_new_mips(\n",
    "            offline_logged_data, pi)\n",
    "        #print(estimated_policy_values[\"mips\"])\n",
    "        #estimated_policy_values[\"mips (w_hat)\"] = calc_mips(offline_logged_data, pi, is_estimate_w=True)\n",
    "        estimated_policy_value_list.append(estimated_policy_values)\n",
    "        \n",
    "\n",
    "    ## シミュレーション結果を集計する\n",
    "    result_df_list.append(\n",
    "        aggregate_simulation_results(\n",
    "            estimated_policy_value_list, policy_value, \"num_actions\", num_actions,\n",
    "        )\n",
    "    )\n",
    "    \n",
    "result_df_actions = pd.concat(result_df_list).reset_index(level=0)"
   ]
  },
  {
   "cell_type": "code",
   "execution_count": 319,
   "metadata": {},
   "outputs": [
    {
     "name": "stdout",
     "output_type": "stream",
     "text": [
      "0.4143917855194855\n",
      "1.430154848830344\n",
      "0.9265041208846426\n",
      "0.6893190815358936\n",
      "-0.23718503934874902\n",
      "[[1.12447449 0.01309811 1.5307725  ... 0.02489885 0.80968307 1.26431459]\n",
      " [0.15266182 0.06174028 0.60006577 ... 0.85594118 0.92509639 0.70869367]\n",
      " [0.30034593 0.         1.02574989 ... 0.03340471 0.50561346 0.60698434]\n",
      " ...\n",
      " [0.14387325 0.         0.71131888 ... 0.         1.51406536 1.43254434]\n",
      " [0.34209977 0.04564493 0.04838193 ... 0.24894833 0.28076077 0.        ]\n",
      " [0.3874619  0.07216516 0.75521059 ... 0.8794729  0.1825587  0.85279475]]\n"
     ]
    }
   ],
   "source": [
    "print(offline_logged_data[\"g_x_c_0\"][0][0])\n",
    "print(offline_logged_data[\"g_x_c_1\"][0][0])\n",
    "print(offline_logged_data[\"q_x_a_0\"][0][0])\n",
    "print(offline_logged_data[\"q_x_a_1\"][0][0])\n",
    "print(offline_logged_data[\"cate_x_a\"][0][0])\n",
    "print(offline_logged_data[\"r_mat\"])\n"
   ]
  },
  {
   "cell_type": "code",
   "execution_count": 320,
   "metadata": {},
   "outputs": [
    {
     "data": {
      "text/html": [
       "<div>\n",
       "<style scoped>\n",
       "    .dataframe tbody tr th:only-of-type {\n",
       "        vertical-align: middle;\n",
       "    }\n",
       "\n",
       "    .dataframe tbody tr th {\n",
       "        vertical-align: top;\n",
       "    }\n",
       "\n",
       "    .dataframe thead th {\n",
       "        text-align: right;\n",
       "    }\n",
       "</style>\n",
       "<table border=\"1\" class=\"dataframe\">\n",
       "  <thead>\n",
       "    <tr style=\"text-align: right;\">\n",
       "      <th></th>\n",
       "      <th>index</th>\n",
       "      <th>est</th>\n",
       "      <th>value</th>\n",
       "      <th>num_actions</th>\n",
       "      <th>se</th>\n",
       "      <th>bias</th>\n",
       "      <th>variance</th>\n",
       "      <th>true_value</th>\n",
       "    </tr>\n",
       "  </thead>\n",
       "  <tbody>\n",
       "    <tr>\n",
       "      <th>0</th>\n",
       "      <td>0</td>\n",
       "      <td>ips</td>\n",
       "      <td>0.998372</td>\n",
       "      <td>250</td>\n",
       "      <td>0.170760</td>\n",
       "      <td>0.002517</td>\n",
       "      <td>0.214741</td>\n",
       "      <td>1.411603</td>\n",
       "    </tr>\n",
       "    <tr>\n",
       "      <th>1</th>\n",
       "      <td>0</td>\n",
       "      <td>mips</td>\n",
       "      <td>0.730002</td>\n",
       "      <td>250</td>\n",
       "      <td>0.464580</td>\n",
       "      <td>0.287304</td>\n",
       "      <td>0.021197</td>\n",
       "      <td>1.411603</td>\n",
       "    </tr>\n",
       "    <tr>\n",
       "      <th>2</th>\n",
       "      <td>1</td>\n",
       "      <td>ips</td>\n",
       "      <td>0.517842</td>\n",
       "      <td>250</td>\n",
       "      <td>0.798808</td>\n",
       "      <td>0.002517</td>\n",
       "      <td>0.891006</td>\n",
       "      <td>1.411603</td>\n",
       "    </tr>\n",
       "    <tr>\n",
       "      <th>3</th>\n",
       "      <td>1</td>\n",
       "      <td>mips</td>\n",
       "      <td>-0.037561</td>\n",
       "      <td>250</td>\n",
       "      <td>2.100075</td>\n",
       "      <td>0.287304</td>\n",
       "      <td>0.833854</td>\n",
       "      <td>1.411603</td>\n",
       "    </tr>\n",
       "    <tr>\n",
       "      <th>4</th>\n",
       "      <td>2</td>\n",
       "      <td>ips</td>\n",
       "      <td>2.262140</td>\n",
       "      <td>250</td>\n",
       "      <td>0.723414</td>\n",
       "      <td>0.002517</td>\n",
       "      <td>0.640586</td>\n",
       "      <td>1.411603</td>\n",
       "    </tr>\n",
       "    <tr>\n",
       "      <th>...</th>\n",
       "      <td>...</td>\n",
       "      <td>...</td>\n",
       "      <td>...</td>\n",
       "      <td>...</td>\n",
       "      <td>...</td>\n",
       "      <td>...</td>\n",
       "      <td>...</td>\n",
       "      <td>...</td>\n",
       "    </tr>\n",
       "    <tr>\n",
       "      <th>295</th>\n",
       "      <td>47</td>\n",
       "      <td>mips</td>\n",
       "      <td>0.640561</td>\n",
       "      <td>1000</td>\n",
       "      <td>0.629829</td>\n",
       "      <td>5.298945</td>\n",
       "      <td>2.275047</td>\n",
       "      <td>1.434179</td>\n",
       "    </tr>\n",
       "    <tr>\n",
       "      <th>296</th>\n",
       "      <td>48</td>\n",
       "      <td>ips</td>\n",
       "      <td>0.793155</td>\n",
       "      <td>1000</td>\n",
       "      <td>0.410912</td>\n",
       "      <td>0.195729</td>\n",
       "      <td>1.173836</td>\n",
       "      <td>1.434179</td>\n",
       "    </tr>\n",
       "    <tr>\n",
       "      <th>297</th>\n",
       "      <td>48</td>\n",
       "      <td>mips</td>\n",
       "      <td>-1.382567</td>\n",
       "      <td>1000</td>\n",
       "      <td>7.934058</td>\n",
       "      <td>5.298945</td>\n",
       "      <td>0.265021</td>\n",
       "      <td>1.434179</td>\n",
       "    </tr>\n",
       "    <tr>\n",
       "      <th>298</th>\n",
       "      <td>49</td>\n",
       "      <td>ips</td>\n",
       "      <td>17.818429</td>\n",
       "      <td>1000</td>\n",
       "      <td>268.443646</td>\n",
       "      <td>0.195729</td>\n",
       "      <td>254.142165</td>\n",
       "      <td>1.434179</td>\n",
       "    </tr>\n",
       "    <tr>\n",
       "      <th>299</th>\n",
       "      <td>49</td>\n",
       "      <td>mips</td>\n",
       "      <td>2.699524</td>\n",
       "      <td>1000</td>\n",
       "      <td>1.601099</td>\n",
       "      <td>5.298945</td>\n",
       "      <td>12.725553</td>\n",
       "      <td>1.434179</td>\n",
       "    </tr>\n",
       "  </tbody>\n",
       "</table>\n",
       "<p>300 rows × 8 columns</p>\n",
       "</div>"
      ],
      "text/plain": [
       "     index   est      value  num_actions          se      bias    variance  \\\n",
       "0        0   ips   0.998372          250    0.170760  0.002517    0.214741   \n",
       "1        0  mips   0.730002          250    0.464580  0.287304    0.021197   \n",
       "2        1   ips   0.517842          250    0.798808  0.002517    0.891006   \n",
       "3        1  mips  -0.037561          250    2.100075  0.287304    0.833854   \n",
       "4        2   ips   2.262140          250    0.723414  0.002517    0.640586   \n",
       "..     ...   ...        ...          ...         ...       ...         ...   \n",
       "295     47  mips   0.640561         1000    0.629829  5.298945    2.275047   \n",
       "296     48   ips   0.793155         1000    0.410912  0.195729    1.173836   \n",
       "297     48  mips  -1.382567         1000    7.934058  5.298945    0.265021   \n",
       "298     49   ips  17.818429         1000  268.443646  0.195729  254.142165   \n",
       "299     49  mips   2.699524         1000    1.601099  5.298945   12.725553   \n",
       "\n",
       "     true_value  \n",
       "0      1.411603  \n",
       "1      1.411603  \n",
       "2      1.411603  \n",
       "3      1.411603  \n",
       "4      1.411603  \n",
       "..          ...  \n",
       "295    1.434179  \n",
       "296    1.434179  \n",
       "297    1.434179  \n",
       "298    1.434179  \n",
       "299    1.434179  \n",
       "\n",
       "[300 rows x 8 columns]"
      ]
     },
     "execution_count": 320,
     "metadata": {},
     "output_type": "execute_result"
    }
   ],
   "source": [
    "result_df_actions"
   ]
  },
  {
   "cell_type": "code",
   "execution_count": 18,
   "metadata": {},
   "outputs": [
    {
     "data": {
      "text/plain": [
       "<matplotlib.legend.Legend at 0x2a1000424c0>"
      ]
     },
     "execution_count": 18,
     "metadata": {},
     "output_type": "execute_result"
    },
    {
     "data": {
      "image/png": "[encoded data removed]",
      "text/plain": [
       "<Figure size 3500x1000 with 3 Axes>"
      ]
     },
     "metadata": {},
     "output_type": "display_data"
    }
   ],
   "source": [
    "fig, ax_list = plt.subplots(1, 3, figsize=(35, 10), tight_layout=True)\n",
    "for i, y in enumerate([\"se\", \"bias\", \"variance\"]):\n",
    "    ax = ax_list[i]\n",
    "    sns.lineplot(\n",
    "        markers=True,\n",
    "        markersize=40,\n",
    "        linewidth=7,\n",
    "        legend=False,\n",
    "        style=\"est\",\n",
    "        x=\"num_actions\",\n",
    "        y=y,\n",
    "        hue=\"est\",\n",
    "        ax=ax,\n",
    "        ci=None,\n",
    "        palette=[\"tab:red\", \"tab:orange\"],\n",
    "        data=result_df_actions.query(\"est == 'ips' or est == 'mips'\"),\n",
    "    )\n",
    "    ax.set_title(y_label_dict[y], fontsize=50)\n",
    "    # yaxis\n",
    "    ax.set_ylabel(\"\")\n",
    "    ax.set_ylim(0.0, 10)\n",
    "    ax.set_yticks([0, 0.2, 0.4, 0.6, 0.8, 1.0])\n",
    "    ax.tick_params(axis=\"y\", labelsize=30)\n",
    "    ax.yaxis.set_label_coords(-0.1, 0.5)\n",
    "    # xaxis\n",
    "    ax.set_xscale(\"log\")\n",
    "    if i == 1:\n",
    "        ax.set_xlabel(r\"行動の数$|\\mathcal{A}|$\", fontsize=50)\n",
    "    else:\n",
    "        ax.set_xlabel(r\"\", fontsize=40)\n",
    "    ax.set_xticks(num_actions_list)\n",
    "    ax.set_xticklabels(num_actions_list, fontsize=30)\n",
    "    ax.xaxis.set_label_coords(0.5, -0.12)\n",
    "fig.legend([\"IPS\", \"MIPS\"], fontsize=50, bbox_to_anchor=(0.5, 1.15), ncol=4, loc=\"center\")"
   ]
  },
  {
   "cell_type": "code",
   "execution_count": 322,
   "metadata": {},
   "outputs": [],
   "source": [
    "num_data = offline_logged_data[\"num_data\"]\n",
    "num_actions, num_clusters = offline_logged_data[\"num_actions\"], offline_logged_data[\"num_clusters\"]\n",
    "x, a, c, r = offline_logged_data[\"x\"], offline_logged_data[\"a\"], copy(offline_logged_data[\"c\"]),offline_logged_data[\"r\"]\n",
    "pi_0, phi_a = offline_logged_data[\"pi_0\"], copy(offline_logged_data[\"phi_a\"])\n",
    "min_value, max_value = r.min(), r.max()\n",
    "#actionしない行動確率を定義\n",
    "a_mat, r_mat = offline_logged_data[\"a_mat\"], copy(offline_logged_data[\"r_mat\"])\n",
    "not_a_mat = 1 - a_mat\n",
    "c_mat = offline_logged_data[\"c_mat\"]\n",
    "not_c_mat = 1 - c_mat"
   ]
  },
  {
   "cell_type": "code",
   "execution_count": null,
   "metadata": {},
   "outputs": [
    {
     "name": "stdout",
     "output_type": "stream",
     "text": [
      "[[1.01462348 1.01938688 1.02677865 ... 1.01968298 1.02033091 1.01750462]\n",
      " [1.02278045 1.01930266 1.02147112 ... 1.01590934 1.01656471 1.01302959]\n",
      " [1.01656705 1.0191907  1.02470634 ... 1.01687437 1.02012499 1.0173278 ]\n",
      " ...\n",
      " [1.01156701 1.01914555 1.02483425 ... 1.0188873  1.0200776  1.02001858]\n",
      " [1.01533944 1.01911456 1.02367791 ... 1.01941884 1.02004507 1.02035428]\n",
      " [1.0223926  1.01863856 1.02130986 ... 1.01649156 1.01948237 1.01492368]]\n",
      "(500, 50)\n",
      "(500,)\n",
      "(500,)\n",
      "7.280686752594123\n"
     ]
    }
   ],
   "source": [
    "is_estimate_w=False\n",
    "replace_c = 0\n",
    "if is_estimate_w:#p(a|e,x)の推定\n",
    "        x_c = np.c_[x, np.eye(num_clusters)[c]]\n",
    "        print(x.shape)\n",
    "        print(x_c.shape)\n",
    "        pi_a_x_c_model = LogisticRegression(C=5, random_state=12345)\n",
    "        pi_a_x_c_model.fit(x_c, a)\n",
    "\n",
    "        w_x_a_full = pi / pi_0\n",
    "        pi_a_x_c_hat = np.zeros((num_data, num_actions))\n",
    "        pi_a_x_c_hat[:, np.unique(a)] = pi_a_x_c_model.predict_proba(x_c)\n",
    "        print(pi_a_x_c_hat.shape)\n",
    "        w_x_c_hat = (pi_a_x_c_hat * w_x_a_full).sum(1)\n",
    "\n",
    "        print(np.clip((w_x_c_hat * r).mean(), min_value, max_value))\n",
    "\n",
    "else:#p(e|a,x)=1としている\n",
    "        pi_0_c = np.zeros((num_data, num_clusters - replace_c))\n",
    "        pi_c = np.zeros((num_data, num_clusters - replace_c))\n",
    "        \n",
    "        r_c_mat = np.zeros((num_data, num_clusters - replace_c))\n",
    "        r_mat_not_a = r_mat * (1-a_mat)\n",
    "        for c_ in range(num_clusters - replace_c):\n",
    "            pi_0_c[:, c_] = pi_0[:, phi_a == c_].sum(1)\n",
    "            pi_c[:, c_] = pi[:, phi_a == c_].sum(1)\n",
    "            \n",
    "            r_c_mat[:,c_] = r_mat_not_a[:,phi_a == c_].sum(1)\n",
    "            \n",
    "    \n",
    "            \n",
    "        \n",
    "        not_r_c_mat = r_c_mat * not_c_mat\n",
    "        # 周辺重要度重み\n",
    "        w_x_c_1 = pi_c[np.arange(num_data), c] / pi_0_c[np.arange(num_data), c]\n",
    "        w_x_c_0 = (not_c_mat - (pi_c*not_c_mat))/ (not_c_mat-(pi_0_c*not_c_mat))\n",
    "        #nanを０に変更\n",
    "        w_x_c_0 = np.nan_to_num(w_x_c_0, nan=0)\n",
    "        #print(w_x_c_1)\n",
    "        print(w_x_c_0)\n",
    "        #print(w_x_c_0[0])\n",
    "        print(not_r_c_mat.shape)\n",
    "        \n",
    "        print((w_x_c_1 * r).shape)\n",
    "        print(((w_x_c_0*not_r_c_mat).sum(1)).shape)\n",
    "        print(np.clip((w_x_c_1 * r + ((w_x_c_0*not_r_c_mat).sum(1))).mean(), min_value, max_value))  \n",
    "    \n",
    "    \n",
    "    \n"
   ]
  },
  {
   "cell_type": "code",
   "execution_count": 324,
   "metadata": {},
   "outputs": [
    {
     "name": "stdout",
     "output_type": "stream",
     "text": [
      "[0 1]\n"
     ]
    }
   ],
   "source": [
    "a = np.array([[1,2],[0,3]])\n",
    "b = np.array([[1,2],[1,1]])\n",
    "\n",
    "c = a.sum(1) - b.sum(1)\n",
    "print(c)"
   ]
  },
  {
   "cell_type": "code",
   "execution_count": 325,
   "metadata": {},
   "outputs": [
    {
     "name": "stdout",
     "output_type": "stream",
     "text": [
      "2.4753792990219536\n"
     ]
    }
   ],
   "source": [
    "num_data = offline_logged_data[\"num_data\"]\n",
    "num_actions, num_clusters = offline_logged_data[\"num_actions\"], offline_logged_data[\"num_clusters\"]\n",
    "x, a, c, r = offline_logged_data[\"x\"], offline_logged_data[\"a\"], copy(offline_logged_data[\"c\"]),offline_logged_data[\"r\"]\n",
    "pi_0, phi_a = offline_logged_data[\"pi_0\"], copy(offline_logged_data[\"phi_a\"])\n",
    "min_value, max_value = r.min(), r.max()\n",
    "#actionしない行動確率を定義\n",
    "a_mat, r_mat = offline_logged_data[\"a_mat\"], copy(offline_logged_data[\"r_mat\"])\n",
    "c_mat = offline_logged_data[\"c_mat\"]\n",
    "not_c_mat = 1 - c_mat\n",
    "\n",
    "\n",
    "  #p(e|a,x)=1としている\n",
    "pi_0_c = np.zeros((num_data, num_clusters ))\n",
    "pi_c = np.zeros((num_data, num_clusters ))\n",
    "r_c_mat = np.zeros((num_data, num_clusters ))\n",
    "        \n",
    "for c_ in range(num_clusters ):\n",
    "        pi_0_c[:, c_] = pi_0[:, phi_a == c_].sum(1)\n",
    "        pi_c[:, c_] = pi[:, phi_a == c_].sum(1)\n",
    "        r_c_mat[:,c_] = r_mat[:,phi_a == c_].sum(1)\n",
    "           \n",
    "    # (1) π(e_i|x_i) / π_0(e_i|x_i) * r_i(e_i, 0)\n",
    "    #w_x_c_1 = pi_c[np.arange(num_data), c] / pi_0_c[np.arange(num_data), c]\n",
    "    \n",
    "w_x_c_1 = (pi_c*c_mat)/pi_0_c\n",
    "        #term1 = w_x_c_1 * r  # 第一項\n",
    "\n",
    "        # (2) Σ_(e ∈ E/{e_i}) ((1 - π(e|x)) / (1 - π_0(e|x)) * r_i(e, 0))\n",
    "        # 非選択アクションの重みと報酬を計算\n",
    "        #denom = 1 - (pi_0_c * not_c_mat)  # 1 - π_0(e|x)\n",
    "        #denom[denom == 0] = 1  # ゼロ割りを防止\n",
    "        #w_x_c_0 = (not_c_mat - (pi_c * not_c_mat)) / denom  # 重み\n",
    "        #w_x_c_0 = np.nan_to_num(w_x_c_0, nan=0)     # NaN を 0 に置換\n",
    "        #term2 = (w_x_c_0 * r_c_mat).sum(axis=1)     # 第二項\n",
    "        \n",
    "w_x_c_0 = (2 * pi_c* not_c_mat)/ (1 -pi_0_c)\n",
    "        #nanを０に変更\n",
    "w_x_c_1 = np.nan_to_num(w_x_c_1,nan=0)\n",
    "w_x_c_0 = np.nan_to_num(w_x_c_0, nan=0)\n",
    "    #print(w_x_c_1.shape)\n",
    "    #print(w_x_c_0.shape)\n",
    "    #print(w_x_c_0[0])\n",
    "        \n",
    "        \n",
    "    #print((w_x_c_1 * r).shape)\n",
    "    #print(((w_x_c_0*not_r_c_mat).sum(1)).shape)\n",
    "       \n",
    "    # 全体の報酬\n",
    "    #total_reward = term1 + term2\n",
    "    #return total_reward.mean()\n",
    "    #print(\"w_x_c_0*r_c_mat:\" ,(w_x_c_0*r_c_mat).shape)\n",
    "temp1 = w_x_c_1 * r_c_mat\n",
    "temp2 = w_x_c_0*r_c_mat\n",
    "print((temp1.sum(1)-temp2.sum(1)).mean())"
   ]
  },
  {
   "cell_type": "code",
   "execution_count": 326,
   "metadata": {},
   "outputs": [
    {
     "name": "stdout",
     "output_type": "stream",
     "text": [
      "236.06163973825142\n"
     ]
    }
   ],
   "source": [
    "print(r_mat.sum(1)[2])"
   ]
  },
  {
   "cell_type": "code",
   "execution_count": 327,
   "metadata": {},
   "outputs": [
    {
     "name": "stdout",
     "output_type": "stream",
     "text": [
      "236.06163973825142\n"
     ]
    }
   ],
   "source": [
    "print(r_c_mat.sum(1)[2])"
   ]
  },
  {
   "cell_type": "code",
   "execution_count": 328,
   "metadata": {},
   "outputs": [
    {
     "name": "stdout",
     "output_type": "stream",
     "text": [
      "[ 7.55800873  0.67305103 34.60750347  1.19230238  0.57271367  4.86649531\n",
      "  2.55847763 27.55893564 26.16211466  0.32462425  8.36904262  0.52501751\n",
      "  0.50387134  3.9299159   0.33986076 33.75028767 23.41245877  0.72498429\n",
      "  0.95021446  1.10723955 34.60678899  0.67029291 22.44337089  1.04433561\n",
      " 19.21821102 13.80405234  0.46187645  4.85775968  6.39058888 24.27603392\n",
      "  0.34572344 12.02426519  2.30220089  0.5759092  45.85468088  1.9546202\n",
      "  0.88117075 24.47858766 15.05981428  1.69777326  1.65720821  1.32185237\n",
      " 23.94871514 17.59727742 21.17067378  7.24551942  0.69357803 38.36342281\n",
      "  0.74986009  0.96469105]\n"
     ]
    }
   ],
   "source": [
    "print(r_c_mat[0])"
   ]
  },
  {
   "cell_type": "code",
   "execution_count": 329,
   "metadata": {},
   "outputs": [
    {
     "name": "stdout",
     "output_type": "stream",
     "text": [
      "[0.00406663 0.00429043 0.00473407 0.00385534 0.00386144 0.00406238\n",
      " 0.00448293 0.00516155 0.00410703 0.00408194 1.81868866 0.00283148\n",
      " 0.00345203 0.00325449 0.00222456 0.00559527 0.00347818 0.00429043\n",
      " 0.00491848 0.00345902 0.00411566 0.00449935 0.         0.00636103\n",
      " 0.0044908  0.00324798 0.00384869 0.00406096 0.00243239 0.00515638\n",
      " 0.00406959 0.00284108 0.00387021 0.00325223 0.00561345 0.0034608\n",
      " 0.0040617  0.0053463  0.00426904 0.00529037 0.00283639 0.00468452\n",
      " 0.00452507 0.00451102 0.00326887 0.00263836 0.00448107 0.00408691\n",
      " 0.00449935 0.00387388]\n"
     ]
    }
   ],
   "source": [
    "print(w_x_c_0[0])"
   ]
  },
  {
   "cell_type": "code",
   "execution_count": 330,
   "metadata": {},
   "outputs": [
    {
     "name": "stdout",
     "output_type": "stream",
     "text": [
      "[3.07356036e-02 2.88768157e-03 1.63834349e-01 4.59673306e-03\n",
      " 2.21149978e-03 1.97695637e-02 1.14694809e-02 1.42246861e-01\n",
      " 1.07448546e-01 1.32509770e-03 1.52206829e+01 1.48657711e-03\n",
      " 1.73937905e-03 1.27898759e-02 7.56041112e-04 1.88841968e-01\n",
      " 8.14327915e-02 3.11049785e-03 4.67361404e-03 3.82996648e-03\n",
      " 1.42429873e-01 3.01588549e-03 0.00000000e+00 6.64305151e-03\n",
      " 8.63051403e-02 4.48352574e-02 1.77761996e-03 1.97271616e-02\n",
      " 1.55444245e-02 1.25176354e-01 1.40695428e-03 3.41618495e-02\n",
      " 8.91000532e-03 1.87298892e-03 2.57403162e-01 6.76454865e-03\n",
      " 3.57904931e-03 1.30869865e-01 6.42909106e-02 8.98185141e-03\n",
      " 4.70048248e-03 6.19224822e-03 1.08369712e-01 7.93817460e-02\n",
      " 6.92042053e-02 1.91163240e-02 3.10797384e-03 1.56787693e-01\n",
      " 3.37388642e-03 3.73709535e-03]\n"
     ]
    }
   ],
   "source": [
    "print(w_x_c_0[0]*r_c_mat[0])"
   ]
  },
  {
   "cell_type": "code",
   "execution_count": 331,
   "metadata": {},
   "outputs": [
    {
     "name": "stdout",
     "output_type": "stream",
     "text": [
      "[0.         0.         0.         0.         0.         0.\n",
      " 0.         0.         0.         0.         0.         0.\n",
      " 0.         0.         0.         0.         0.         0.\n",
      " 0.         0.         0.         0.         1.88535896 0.\n",
      " 0.         0.         0.         0.         0.         0.\n",
      " 0.         0.         0.         0.         0.         0.\n",
      " 0.         0.         0.         0.         0.         0.\n",
      " 0.         0.         0.         0.         0.         0.\n",
      " 0.         0.        ]\n"
     ]
    }
   ],
   "source": [
    "print(w_x_c_1[0]*r_c_mat[0])"
   ]
  },
  {
   "cell_type": "code",
   "execution_count": 332,
   "metadata": {},
   "outputs": [
    {
     "name": "stdout",
     "output_type": "stream",
     "text": [
      "-15.538177369177106\n"
     ]
    }
   ],
   "source": [
    "print((w_x_c_1[0]*r_c_mat[0]).sum() - (w_x_c_0[0]*r_c_mat[0]).sum())"
   ]
  },
  {
   "cell_type": "code",
   "execution_count": 333,
   "metadata": {},
   "outputs": [
    {
     "name": "stdout",
     "output_type": "stream",
     "text": [
      "[0. 0. 0. 0. 0. 0. 0. 0. 0. 0. 0. 0. 0. 0. 0. 0. 0. 0. 0. 0. 0. 0. 1. 0.\n",
      " 0. 0. 0. 0. 0. 0. 0. 0. 0. 0. 0. 0. 0. 0. 0. 0. 0. 0. 0. 0. 0. 0. 0. 0.\n",
      " 0. 0.]\n",
      "[37 18  8 11 36 18 17 17 27 23 47 11 19 23 40 14 35 29 43  3 22  0 15 39\n",
      " 16 37 27 41 20 11 32 41  8 41 16 34 35 34 38 36 33  1 43  2  5  0  0  5\n",
      " 36  0 26 31 45 39 48 21 14  2 42 14 17 13 39  8 48  2 25  1  7  1  5 20\n",
      " 23 36  5  2 47 29 39 12 15 11 12 35 21 49 27 46 10 20  5 42 14 28 28  6\n",
      "  1 18 32 29 15 36 49 19 18 22 43  1 32 24 33 26  7 27 23  3 23 12 22 22\n",
      " 32 37 20 49 49 46  0 27 47  2 13 40 24 21 17  5 22 33  8 41 40 27 30 35\n",
      " 15 31 43 17  7  6 41 18 46 37  7 38 28 32 44 28 42 30 44  6  0 29  4 29\n",
      " 12 20 15 18 47  6 25 38 24  4 19 25 33 34 40 34 29 18 18 42 46 12  3 21\n",
      " 47 12 25 15 40 24 49 36 21 18 41 28  5 30 37  9 33 28 36 11 35  0 23  2\n",
      " 39  2 19 22  8 37 29  4 18 23 19 18 19 20 17 29 36 26 35 34 29 23 31 39\n",
      " 15  4 19 32 32 25  6 33 25  4 26  4 24 21  7 46  9 49 44 41 15  1 23  6\n",
      " 16  0  9 18 27 38 43 47 39  4 35  0 46 44  6 43 35  3 28 15 35 38  1 15\n",
      "  9 33 24  0  5 37  0 47  9 44 27  2 48 13  1 22 37 16 40  3 20  7 12 33\n",
      " 41 35  8 25 28 34 41 46 37 15 39 39 22 38  9 10 48 16 46 43 21 44 42  7\n",
      " 32 15 30 11  1 45 15  2 24  6 36  7 36 24 22  5 49 20 44 36 12 47  7  0\n",
      " 10 23  5 31 31 16 46 46 38 24 46 48 12  8 18 18 17 47 30 29 22 29  4 38\n",
      " 39 44 23  6  6 30 40 40 33 43  1 28 40 23 20  4 38 26 38  6 17 49 49 43\n",
      " 37  5  7 14 24 25 34 36 15 46  6 30 17 36  5 13 42  4 32 44 25 49 46 39\n",
      " 13 30 11 12  1 41 26  6  9 10 48 36 34 33 34 37 34  9 15 17 21  8 45 21\n",
      "  9 21 30 34 25 32  0 32  3 29 17 29 26 23 44 23 48 19 35 16 49  2 18 27\n",
      " 35  6 27  8 25 12  4 41 49  9  2 43 23 35 47 16 46 42 34 20 45 41  6  8\n",
      " 18 11 26  9 14 41 31 34 47 37 34 24 10 31 23  9 24 23 27 22 40 15 23 34\n",
      " 16 26 20  1 28  7 45  4 47 19 39 19 23 27 42 13 46  9 35 33 24  8 41 49\n",
      " 25 42 17 37 43 19 40  8  7 29 44 42 23  9  3 45 34 14 28 47 22 26 20 43\n",
      " 42  3 26 34 10 20 39  2 21  8 18 37 49 41 21 47  6 22 42 30 26 10  7 41\n",
      "  9 34  5 39 42 22 38 23  1 48 26 12 30 41 11 15 44 26  4 30  3  2  8 37\n",
      " 24 13 18  2 48 39 45  1 15 21 19 13  8 25 30 23  1 47 42 46 14 40  0 21\n",
      " 38 30  5 27 22 21 45 25  2 13 23 30 45 39  8 24 39  3 43 11  2  9 26 23\n",
      " 36 10 29 27 22 37 22  9 20 12 14 46 27 43 10 29 36  7 29 48 45 44 35 24\n",
      " 24 13 18 38 46  3 21 22 32  7 48 44  9 15 41 20  6 37  4 37 30  3 23 29\n",
      " 24 33 39  3 20  4 40 18 34 43 34 31 31 19 24  1 42 21 15 32 34 38 42  3\n",
      " 38 41 33 41 18 31 44  2 46 16  8 33 10 35 36 39  3 32 48 21 22 42 21 15\n",
      "  1 10 32 16 45  0 29 18 42 42 37  0 10 34 11 26 19 27 35 31 17  8 46 13\n",
      " 17  2 19 22 41 47 22  5 49  7 31 37  5 25 43 33 13  7 24 13 39 38  2  2\n",
      " 43 49  5 38 29 16 47  2 48 41 23 12 30  4 11 11 30 44 14 22  0 38 16 22\n",
      " 29  9 38 47 37 22 37 38 18 34 15  6 26 45 39 25 34  3 48 21 27 16 27 24\n",
      "  7  0  0 36 16 48 36 14 36 32  7 10 15 48 12  7 20 39  0 17 39 39 42 34\n",
      "  1  6 47  7 32 49  4 19 17 23 34  8 26  3 48  5 39 48 30 30 41  4 11 23\n",
      "  7 18 23 34 20 15 20 38 17 37 17 43 16 23  6  6 24 15 29 23  7 12 43 40\n",
      " 29 48  2 26 31 15 48  2 37 20 13 42 32 10 17 48 17 48 21 39 37 29 13  8\n",
      "  1  7  9 49 19 43 21 46 43 45  1  7  3  5 27  5  6 49  3 29 16 13 37 12\n",
      " 31 47 43 33 42 28 22 32 27 22  1 46  4 17 22 15]\n"
     ]
    }
   ],
   "source": [
    "print(offline_logged_data[\"c_mat\"][0,:])\n",
    "print(offline_logged_data[\"phi_a\"])\n"
   ]
  },
  {
   "cell_type": "code",
   "execution_count": 334,
   "metadata": {},
   "outputs": [
    {
     "name": "stdout",
     "output_type": "stream",
     "text": [
      "(array([303], dtype=int64),)\n"
     ]
    }
   ],
   "source": [
    "indices = np.where(offline_logged_data[\"a_mat\"][0, :] == 1)\n",
    "print(indices)"
   ]
  },
  {
   "cell_type": "code",
   "execution_count": 335,
   "metadata": {},
   "outputs": [
    {
     "name": "stdout",
     "output_type": "stream",
     "text": [
      "22\n"
     ]
    }
   ],
   "source": [
    "print(offline_logged_data[\"phi_a\"][303])"
   ]
  },
  {
   "cell_type": "code",
   "execution_count": 336,
   "metadata": {},
   "outputs": [
    {
     "name": "stdout",
     "output_type": "stream",
     "text": [
      "[303 245 926 892 682 566 549 211 769 897 722 498 443 801 846 231 962  59\n",
      " 287 311 701 706 945 605 355 420 906 253 301  77 251 909 843 639 990 941\n",
      " 855 921 662 393 582 378 484 360 164 898 542 820 566   6 629 769 315  27\n",
      "  90 255 615 831  10 684 137 928 621 989 271 594 523 738 626 600 969 611\n",
      " 665 761  65 876 711 899 531   5 802 566 924 128 250 741  72 665 254 454\n",
      " 508 943 555 896 663 491 606  12 381 359 697 809 383 382 870 836 773 344\n",
      " 854 561 928 423 412 300 796  58 562 342 314 520 417 181 189 932 737 636\n",
      " 814 813 630 130  62 573 328 176 875 444 137 653 315  26 947 554 347 249\n",
      " 503 568 102 603 628 217 446 351 248 969  69 604 137  63 927 274 118 913\n",
      " 392 274 246 100 619 130 315 253   0 671 389 687 287 995  29 672 765 883\n",
      " 428 815 892 600 943 111 967  62 253 583 758 414 541  45 373 517 219 758\n",
      " 162 196 711 859 499 956 377  17 621 349 985 296  95 321  30 372 575 866\n",
      " 648  15 460 539 296  81 158 301 787 490  54 432 402 614  83 618 709 142\n",
      " 737 983 797 193  90 304 980 230 536 484 989 546 989 293 542 418 582 649\n",
      " 191 816  95 813 142 933 268 666 984 498 581  23 737 600  36 715 800 950\n",
      " 761 728 683 711 179 161  50  65 492 224 484 467 720 332 739 686 151 477\n",
      " 608 829 936  26 957 360 573 727 905 236 478 600 567 203 279 438 179 500\n",
      " 410 455 709 300 820 682 594 409 839 626 668 533 891  24  89 124 284 666\n",
      " 679 636 892 599 297 644  64 642 708 599 874 208 457 674 506 881 408  30\n",
      " 232 976  84 157 189 445 269 998 888  23 188 947 152 655 695 198  33 678\n",
      " 757 824 175 625 162  32  71 918 522  15   0 989 261 874 358 533 151 117\n",
      " 127 708 809 858 433 876 576 844 885 381 824 761 963 880 160 763 429 203\n",
      " 271 297  75 278 757 410 319 162 100 222 959 513 129 187 815 853 993 632\n",
      " 960  71 183 651 818 128 801 698 769 990 803 326 750  47 689 161 744 123\n",
      " 149  19  88 351 308 136 734 820 176 307 367 874 454 514 887 130 467 952\n",
      " 225 472 914 971 599 907 326 825 893 595 355 541 486 314 404 846 514 774\n",
      " 730 335 531  25 326  82 939 418 853 852 914 870  20 514 313  41 237  45\n",
      " 774 200 288 940 832 967 348 699 885 790 948 946 619 750]\n"
     ]
    }
   ],
   "source": [
    "print(offline_logged_data[\"a\"])"
   ]
  },
  {
   "cell_type": "code",
   "execution_count": 337,
   "metadata": {},
   "outputs": [
    {
     "name": "stdout",
     "output_type": "stream",
     "text": [
      "(500, 1000)\n"
     ]
    }
   ],
   "source": [
    "print(offline_logged_data[\"q_x_a_0\"].shape)"
   ]
  },
  {
   "cell_type": "code",
   "execution_count": 338,
   "metadata": {},
   "outputs": [
    {
     "name": "stdout",
     "output_type": "stream",
     "text": [
      "(500, 1000)\n",
      "(500,)\n",
      "500\n",
      "(500,)\n"
     ]
    }
   ],
   "source": [
    "q0_hat = offline_logged_data[\"q_x_a_0\"]\n",
    "\n",
    "a = offline_logged_data[\"a\"]\n",
    "num_data = offline_logged_data[\"num_data\"]\n",
    "\n",
    "print(q0_hat.shape)\n",
    "print(a.shape)\n",
    "print(num_data)\n",
    "print(q0_hat[np.arange(num_data),a].shape)"
   ]
  },
  {
   "cell_type": "code",
   "execution_count": 339,
   "metadata": {},
   "outputs": [
    {
     "name": "stdout",
     "output_type": "stream",
     "text": [
      "[ 6  8 10 12]\n"
     ]
    }
   ],
   "source": [
    "a = np.array([1,2,3,4])\n",
    "b = np.array([5,6,7,8])\n",
    "print(a + b)"
   ]
  },
  {
   "cell_type": "code",
   "execution_count": 340,
   "metadata": {},
   "outputs": [],
   "source": [
    "num_data = offline_logged_data[\"num_data\"]\n",
    "num_actions, num_clusters = offline_logged_data[\"num_actions\"], offline_logged_data[\"num_clusters\"]\n",
    "x, a, c, r = offline_logged_data[\"x\"], offline_logged_data[\"a\"], offline_logged_data[\"c\"],offline_logged_data[\"r\"]\n",
    "pi_0, phi_a = offline_logged_data[\"pi_0\"], offline_logged_data[\"phi_a\"]\n",
    "min_value, max_value = r.min(), r.max()\n",
    "#actionしない行動確率を定義\n",
    "a_mat, r_mat = offline_logged_data[\"a_mat\"], offline_logged_data[\"r_mat\"]\n",
    "c_mat = offline_logged_data[\"c_mat\"]\n",
    "not_c_mat = 1 - c_mat"
   ]
  },
  {
   "cell_type": "code",
   "execution_count": 341,
   "metadata": {},
   "outputs": [
    {
     "data": {
      "text/plain": [
       "array([0.13997015, 0.        , 0.02333177, 0.        , 0.12390662,\n",
       "       0.08101965, 0.        , 0.40985647, 0.        , 0.64737076,\n",
       "       0.18149816, 0.05684001, 0.84834148, 0.23357766, 1.63044551,\n",
       "       0.07830651, 0.        , 0.        , 0.06838743, 0.18676831,\n",
       "       0.14596068, 0.        , 0.        , 0.        , 0.18360338,\n",
       "       0.        , 1.24292826, 0.        , 0.        , 0.06141599,\n",
       "       0.        , 0.        , 0.29531122, 0.01700702, 0.12529579,\n",
       "       0.10424653, 0.        , 0.06044847, 0.51503223, 0.02212576,\n",
       "       1.37861734, 0.44209384, 0.42964151, 0.10179346, 0.09307576,\n",
       "       0.        , 0.17031906, 0.15086366, 0.63383249, 0.05602695])"
      ]
     },
     "execution_count": 341,
     "metadata": {},
     "output_type": "execute_result"
    }
   ],
   "source": [
    "r[:50]"
   ]
  },
  {
   "cell_type": "code",
   "execution_count": 342,
   "metadata": {},
   "outputs": [
    {
     "data": {
      "text/plain": [
       "(500, 1000)"
      ]
     },
     "execution_count": 342,
     "metadata": {},
     "output_type": "execute_result"
    }
   ],
   "source": [
    "q1_hat = offline_logged_data[\"q_x_a_1\"]\n",
    "q1_hat.shape"
   ]
  },
  {
   "cell_type": "code",
   "execution_count": 343,
   "metadata": {},
   "outputs": [],
   "source": [
    "not_a_mat = 1 - a_mat"
   ]
  },
  {
   "cell_type": "code",
   "execution_count": 344,
   "metadata": {},
   "outputs": [
    {
     "data": {
      "text/plain": [
       "array([22, 25,  6, 32, 14,  3,  8, 11, 10, 23, 39, 34, 36,  7, 37, 29,  9,\n",
       "       14, 15, 33,  3, 48, 20, 22, 36, 17, 30, 21, 13, 29,  4,  4, 47, 23,\n",
       "       22, 15, 25, 37,  8, 43, 39, 30, 25, 10,  0, 34, 42, 29,  3, 17, 39,\n",
       "       10, 25, 41,  5, 46, 15, 11, 47, 27, 33, 24,  2, 28, 47, 42, 22, 15,\n",
       "       18,  9, 45, 12,  3, 32,  2, 15, 20,  8,  1, 18, 31,  3, 16, 47, 26,\n",
       "       38, 23,  3,  7, 45, 14,  2, 37, 17, 24, 43, 38, 19, 29,  0, 13,  7,\n",
       "       38,  4, 36,  0,  0, 24, 39, 29, 24, 13, 24, 48, 41, 42, 44, 15,  8,\n",
       "       24, 46, 34, 12,  7, 21,  8,  2, 38, 45, 13, 39, 26, 48, 24, 10, 34,\n",
       "       33, 21, 25, 27, 42, 17,  7,  4,  8, 34, 49, 39, 48,  2, 34,  5, 25,\n",
       "       45,  1, 42, 33,  8,  6, 35, 22, 18, 33, 35,  6, 15, 30, 13, 25, 21,\n",
       "       37, 23, 30, 29, 15, 46, 11, 36, 42, 17, 25,  2, 32,  9,  2, 26, 46,\n",
       "       39, 21,  2, 36, 34, 27,  0,  8, 31, 22, 36, 44, 40, 20, 21, 20, 37,\n",
       "       47, 29,  2, 24, 47,  9,  6, 15, 32, 12, 43,  0, 38, 14, 25, 19,  9,\n",
       "       11, 44, 13, 31,  2, 48, 13, 38, 11, 35,  4, 15, 30, 21, 12, 47, 12,\n",
       "        5, 37, 16, 17, 47, 25, 28, 35, 28, 37, 42,  6, 39, 30, 21, 43,  6,\n",
       "       38, 30, 12, 27, 43, 31, 34, 20, 39, 21,  9, 35, 37, 49, 17, 32, 34,\n",
       "       46, 20, 25, 30, 26,  2, 23, 18, 25, 29, 24, 21, 32, 10, 18,  2,  1,\n",
       "        4, 29, 27, 29, 10, 26, 18, 48, 29, 18,  9, 45, 28, 43, 26, 25, 45,\n",
       "        7, 21, 15, 48, 29, 14, 42,  5, 22, 18,  2,  7,  7, 16, 20, 49, 35,\n",
       "       43,  9,  8, 32, 41, 44, 14, 48, 42,  9, 41,  7, 33, 21, 29, 26, 39,\n",
       "       37, 32, 36,  6, 21, 32, 12, 33, 38, 22,  1, 39, 46, 42, 46, 25, 24,\n",
       "       49, 41, 22, 35, 48, 38, 13, 44,  8, 20, 20, 27, 14, 37, 28,  1,  7,\n",
       "        7,  7, 18, 12, 27,  9,  7, 48, 30, 15, 42, 37, 39, 29, 48, 32, 49,\n",
       "       20, 42, 21, 49, 28, 47, 44,  2,  6, 35,  7, 46, 44, 15, 29,  8, 37,\n",
       "        2, 42,  2, 45, 22, 15,  1, 20, 34, 27,  5, 47,  7, 18, 10, 22, 37,\n",
       "        9, 44,  5,  7, 30, 38, 49,  6,  3, 10,  5, 20, 22, 24, 29, 24,  3,\n",
       "       46,  7, 45, 34, 34, 13, 29, 17, 23, 48, 23,  7, 41, 30,  9, 41, 49,\n",
       "       30, 36, 27,  4,  8, 17, 37, 34, 29, 34,  7,  1, 37,  9, 12, 26,  6,\n",
       "       45, 26, 23, 36, 22, 34, 35,  1, 23,  0, 29, 21,  9, 31, 30, 46, 36,\n",
       "       38, 39, 46, 32, 13, 30, 44])"
      ]
     },
     "execution_count": 344,
     "metadata": {},
     "output_type": "execute_result"
    }
   ],
   "source": [
    "c"
   ]
  },
  {
   "cell_type": "code",
   "execution_count": 345,
   "metadata": {},
   "outputs": [],
   "source": [
    "a_cluster_mat = np.zeros((num_data, num_actions), dtype=int)\n",
    "for i in range(num_data):\n",
    "    # Set the cluster of the actual action taken to 1\n",
    "    action_taken = a[i]\n",
    "    cluster = phi_a[action_taken]\n",
    "    for action in range(num_actions):\n",
    "        if phi_a[action] == cluster:\n",
    "            a_cluster_mat[i, action] = 1"
   ]
  },
  {
   "cell_type": "code",
   "execution_count": 346,
   "metadata": {},
   "outputs": [
    {
     "data": {
      "text/plain": [
       "array([0, 0, 0, 0, 0, 0, 0, 0, 0, 0, 0, 0, 0, 0, 0, 1, 0, 0, 0, 0, 0, 0,\n",
       "       0, 0, 0, 0, 0, 0, 0, 0, 0, 0, 0, 0, 0, 0, 0, 0, 0, 0, 0, 0, 0, 0,\n",
       "       0, 0, 0, 0, 0, 0, 0, 0, 0, 0, 0, 0, 1, 0, 0, 1, 0, 0, 0, 0, 0, 0,\n",
       "       0, 0, 0, 0, 0, 0, 0, 0, 0, 0, 0, 0, 0, 0, 0, 0, 0, 0, 0, 0, 0, 0,\n",
       "       0, 0, 0, 0, 1, 0, 0, 0, 0, 0, 0, 0, 0, 0, 0, 0, 0, 0, 0, 0, 0, 0,\n",
       "       0, 0, 0, 0, 0, 0, 0, 0, 0, 0, 0, 0, 0, 0, 0, 0, 0, 0, 0, 0, 0, 0,\n",
       "       0, 0, 0, 0, 0, 0, 0, 0, 0, 0, 0, 0, 0, 0, 0, 0, 0, 0, 0, 0, 0, 0,\n",
       "       0, 0, 0, 0, 0, 0, 0, 0, 0, 0, 0, 0, 0, 0, 0, 0, 0, 0, 0, 0, 0, 0,\n",
       "       0, 0, 0, 0, 0, 0, 0, 0, 0, 0, 0, 0, 0, 0, 0, 0, 0, 0, 0, 0, 0, 0,\n",
       "       0, 0, 0, 0, 0, 0, 0, 0, 0, 0, 0, 0, 0, 0, 0, 0, 0, 0, 0, 0, 0, 0,\n",
       "       0, 0, 0, 0, 0, 0, 0, 0, 0, 0, 0, 0, 0, 0, 0, 0, 0, 0, 0, 0, 0, 0,\n",
       "       0, 0, 0, 0, 0, 0, 0, 0, 0, 0, 0, 0, 0, 0, 0, 0, 0, 0, 0, 0, 0, 0,\n",
       "       0, 0, 0, 0, 0, 0, 0, 0, 0, 0, 0, 0, 0, 0, 0, 0, 0, 0, 0, 0, 0, 0,\n",
       "       0, 0, 0, 0, 0, 0, 0, 0, 0, 0, 0, 0, 0, 0, 0, 0, 0, 0, 0, 0, 0, 0,\n",
       "       0, 0, 0, 0, 0, 0, 0, 0, 0, 0, 0, 0, 0, 0, 0, 0, 0, 0, 0, 0, 0, 0,\n",
       "       0, 0, 0, 0, 0, 0, 0, 0, 0, 0, 0, 0, 0, 0, 0, 0, 0, 0, 0, 0, 0, 0,\n",
       "       0, 0, 0, 0, 0, 0, 0, 0, 0, 0, 0, 0, 0, 0, 0, 0, 0, 0, 0, 0, 0, 0,\n",
       "       0, 0, 0, 0, 0, 0, 0, 0, 0, 0, 0, 0, 0, 0, 0, 0, 0, 0, 0, 0, 0, 0,\n",
       "       0, 0, 0, 0, 0, 0, 0, 0, 0, 0, 0, 0, 0, 0, 0, 1, 0, 0, 0, 0, 0, 0,\n",
       "       0, 0, 0, 0, 0, 0, 0, 0, 0, 0, 0, 0, 0, 0, 0, 0, 0, 0, 0, 0, 0, 0,\n",
       "       0, 0, 0, 0, 0, 0, 0, 0, 0, 0, 0, 0, 0, 0, 0, 0, 0, 0, 0, 0, 0, 0,\n",
       "       0, 0, 0, 0, 0, 0, 0, 0, 0, 0, 0, 0, 0, 0, 0, 0, 0, 0, 0, 0, 0, 0,\n",
       "       0, 0, 0, 0, 0, 0, 0, 0, 0, 0, 0, 0, 0, 0, 0, 0, 0, 0, 0, 0, 0, 0,\n",
       "       0, 0, 1, 0, 0, 0, 0, 0, 0, 0, 0, 0, 0, 0, 0, 0, 0, 0, 0, 0, 0, 0,\n",
       "       0, 0, 0, 0, 0, 0, 0, 0, 0, 0, 0, 0, 0, 0, 0, 0, 0, 0, 0, 0, 0, 0,\n",
       "       0, 0, 0, 0, 0, 0, 0, 0, 0, 0, 0, 0, 0, 0, 0, 0, 0, 0, 0, 1, 0, 0,\n",
       "       0, 0, 0, 0, 0, 0, 0, 0, 0, 0, 0, 0, 0, 0, 0, 0, 0, 0, 0, 0, 0, 0,\n",
       "       0, 0, 0, 0, 0, 0, 0, 0, 0, 0, 0, 0, 0, 0, 0, 0, 0, 0, 0, 0, 0, 0,\n",
       "       0, 0, 0, 0, 0, 0, 0, 0, 0, 0, 0, 0, 0, 0, 0, 0, 0, 0, 0, 0, 0, 0,\n",
       "       0, 0, 0, 0, 0, 0, 1, 0, 0, 0, 0, 0, 0, 0, 0, 0, 0, 0, 0, 0, 0, 0,\n",
       "       0, 0, 0, 0, 0, 0, 0, 0, 0, 0, 0, 0, 0, 0, 0, 0, 0, 0, 0, 0, 0, 0,\n",
       "       1, 0, 0, 0, 0, 0, 0, 0, 0, 0, 0, 0, 0, 0, 0, 0, 0, 0, 0, 0, 0, 0,\n",
       "       0, 0, 0, 0, 0, 0, 0, 0, 0, 0, 0, 0, 0, 0, 0, 0, 0, 0, 0, 0, 0, 0,\n",
       "       0, 0, 0, 0, 0, 0, 0, 0, 0, 0, 0, 0, 0, 0, 0, 0, 0, 0, 0, 0, 0, 0,\n",
       "       0, 0, 0, 0, 0, 0, 0, 0, 0, 0, 0, 0, 0, 0, 0, 0, 0, 0, 0, 0, 0, 0,\n",
       "       0, 0, 0, 0, 0, 0, 0, 0, 0, 0, 0, 0, 0, 0, 0, 0, 0, 0, 0, 0, 0, 0,\n",
       "       0, 0, 0, 0, 0, 0, 0, 0, 0, 0, 0, 0, 0, 0, 0, 0, 0, 0, 0, 0, 0, 0,\n",
       "       0, 0, 0, 0, 0, 0, 0, 0, 0, 0, 0, 0, 0, 0, 0, 0, 0, 0, 0, 0, 1, 0,\n",
       "       0, 0, 0, 0, 0, 0, 0, 0, 0, 0, 0, 0, 0, 0, 0, 0, 0, 0, 0, 0, 0, 0,\n",
       "       0, 0, 0, 0, 0, 0, 0, 0, 0, 0, 0, 0, 0, 1, 0, 0, 0, 0, 0, 0, 0, 0,\n",
       "       0, 0, 0, 0, 0, 0, 0, 0, 0, 0, 0, 0, 0, 0, 0, 0, 0, 0, 0, 0, 0, 0,\n",
       "       0, 0, 0, 0, 0, 0, 0, 0, 0, 0, 0, 0, 0, 0, 0, 0, 0, 0, 0, 0, 0, 0,\n",
       "       0, 0, 0, 0, 0, 0, 0, 0, 0, 0, 0, 0, 0, 0, 0, 0, 0, 0, 0, 0, 0, 0,\n",
       "       0, 0, 0, 0, 0, 0, 0, 0, 0, 0, 0, 0, 0, 0, 0, 0, 0, 0, 0, 0, 0, 0,\n",
       "       0, 0, 0, 0, 0, 0, 0, 0, 0, 0, 0, 0, 0, 0, 0, 0, 0, 0, 0, 0, 0, 0,\n",
       "       0, 0, 0, 0, 0, 0, 0, 0, 0, 0])"
      ]
     },
     "execution_count": 346,
     "metadata": {},
     "output_type": "execute_result"
    }
   ],
   "source": [
    "a_cluster_mat[4]"
   ]
  },
  {
   "cell_type": "code",
   "execution_count": 347,
   "metadata": {},
   "outputs": [
    {
     "data": {
      "text/plain": [
       "array([[0., 0., 0., ..., 0., 0., 0.],\n",
       "       [0., 0., 0., ..., 0., 0., 0.],\n",
       "       [0., 0., 0., ..., 0., 0., 0.],\n",
       "       ...,\n",
       "       [0., 0., 0., ..., 0., 0., 0.],\n",
       "       [0., 0., 0., ..., 0., 0., 0.],\n",
       "       [0., 0., 0., ..., 0., 0., 0.]])"
      ]
     },
     "execution_count": 347,
     "metadata": {},
     "output_type": "execute_result"
    }
   ],
   "source": [
    "a_cluster_mat = a_cluster_mat * not_a_mat * q1_hat\n",
    "a_cluster_mat"
   ]
  },
  {
   "cell_type": "code",
   "execution_count": 348,
   "metadata": {},
   "outputs": [
    {
     "data": {
      "text/plain": [
       "array([[0., 0., 0., ..., 0., 0., 0.],\n",
       "       [0., 0., 0., ..., 0., 0., 0.],\n",
       "       [0., 0., 0., ..., 0., 0., 0.],\n",
       "       ...,\n",
       "       [0., 0., 0., ..., 0., 0., 0.],\n",
       "       [0., 0., 0., ..., 0., 0., 0.],\n",
       "       [0., 0., 0., ..., 0., 0., 0.]])"
      ]
     },
     "execution_count": 348,
     "metadata": {},
     "output_type": "execute_result"
    }
   ],
   "source": [
    "a_cluster_mat = a_cluster_mat * q1_hat\n",
    "a_cluster_mat"
   ]
  },
  {
   "cell_type": "code",
   "execution_count": 349,
   "metadata": {},
   "outputs": [
    {
     "data": {
      "text/plain": [
       "array([False, False, False, False, False, False, False, False, False,\n",
       "       False, False, False, False, False, False, False, False, False,\n",
       "       False, False, False, False, False,  True, False, False, False,\n",
       "       False, False, False, False, False, False, False, False, False,\n",
       "       False, False, False, False, False, False, False, False, False,\n",
       "       False, False, False, False, False, False, False, False,  True,\n",
       "       False, False, False, False, False, False, False, False,  True,\n",
       "       False, False, False, False, False, False, False, False, False,\n",
       "       False, False, False, False, False, False,  True, False, False,\n",
       "       False, False, False, False, False, False, False, False, False,\n",
       "       False, False, False, False, False, False, False, False, False,\n",
       "       False, False, False, False, False, False, False, False, False,\n",
       "       False, False, False, False, False, False, False, False, False,\n",
       "       False, False, False, False, False, False, False, False, False,\n",
       "       False, False, False, False, False, False, False, False, False,\n",
       "       False, False, False, False, False, False, False, False, False,\n",
       "       False, False, False, False, False, False, False, False, False,\n",
       "       False, False, False, False, False, False, False, False, False,\n",
       "       False, False, False, False, False, False, False, False, False,\n",
       "       False, False, False, False, False, False, False, False, False,\n",
       "       False, False, False, False, False, False, False, False, False,\n",
       "       False, False, False, False, False, False, False, False, False,\n",
       "       False, False, False, False, False, False, False, False, False,\n",
       "       False, False, False, False, False, False, False, False, False,\n",
       "        True, False, False, False, False, False, False, False, False,\n",
       "       False, False, False, False, False, False, False, False, False,\n",
       "       False, False, False, False, False,  True, False, False, False,\n",
       "       False, False, False, False, False, False, False, False, False,\n",
       "       False, False, False, False, False, False, False, False, False,\n",
       "       False, False, False, False, False, False, False, False, False,\n",
       "       False, False,  True, False, False, False, False, False, False,\n",
       "       False, False, False, False, False, False, False, False, False,\n",
       "       False, False, False, False, False, False, False, False, False,\n",
       "       False, False, False, False, False, False, False, False, False,\n",
       "       False, False, False, False, False, False, False, False, False,\n",
       "       False, False, False, False, False, False, False,  True,  True,\n",
       "       False, False, False, False, False, False, False, False, False,\n",
       "       False, False, False, False, False, False, False, False, False,\n",
       "       False, False, False, False, False, False, False, False, False,\n",
       "       False, False, False, False, False, False, False, False, False,\n",
       "       False, False, False, False, False, False, False, False, False,\n",
       "       False, False, False, False, False, False, False, False, False,\n",
       "       False, False, False, False, False, False,  True, False, False,\n",
       "       False, False, False, False, False, False, False, False, False,\n",
       "       False, False, False, False, False, False, False, False, False,\n",
       "       False, False, False, False, False, False, False, False, False,\n",
       "       False, False, False, False, False, False, False, False, False,\n",
       "       False, False, False, False, False, False, False, False,  True,\n",
       "       False, False, False, False, False, False, False, False, False,\n",
       "       False, False, False, False, False, False, False, False, False,\n",
       "       False, False, False, False, False, False, False, False, False,\n",
       "       False, False, False, False, False, False, False, False, False,\n",
       "       False, False, False, False, False, False, False, False, False,\n",
       "       False, False, False, False, False, False, False, False, False,\n",
       "       False, False, False, False, False, False, False, False, False,\n",
       "       False, False, False, False, False, False, False, False, False,\n",
       "       False, False, False, False, False, False, False, False, False,\n",
       "       False, False, False, False, False, False, False, False, False,\n",
       "       False, False, False, False, False, False, False, False, False,\n",
       "       False, False, False, False, False, False, False,  True, False,\n",
       "       False, False, False, False, False, False, False, False, False,\n",
       "       False, False, False, False, False, False, False, False, False,\n",
       "       False, False, False, False, False, False, False, False, False,\n",
       "       False, False, False, False, False, False, False, False, False,\n",
       "       False, False, False, False, False, False,  True, False, False,\n",
       "       False, False, False, False, False, False, False, False, False,\n",
       "       False, False, False, False, False, False, False, False, False,\n",
       "        True, False, False, False, False, False, False, False, False,\n",
       "       False, False, False, False, False, False, False, False, False,\n",
       "       False, False, False, False, False, False, False, False,  True,\n",
       "       False, False, False, False, False, False, False, False, False,\n",
       "       False, False, False, False, False, False, False, False, False,\n",
       "       False, False, False, False, False, False, False, False, False,\n",
       "       False, False, False, False,  True, False, False,  True, False,\n",
       "       False, False, False, False, False, False, False, False, False,\n",
       "       False, False, False, False, False, False, False, False, False,\n",
       "       False, False, False, False, False, False, False, False, False,\n",
       "       False, False, False, False, False, False, False, False, False,\n",
       "       False, False, False, False, False, False, False, False, False,\n",
       "       False, False, False, False, False, False, False, False, False,\n",
       "       False, False, False, False, False, False, False, False, False,\n",
       "       False, False, False, False, False, False, False, False, False,\n",
       "       False, False, False, False, False, False, False, False, False,\n",
       "       False, False, False, False, False, False, False, False, False,\n",
       "       False, False, False,  True, False, False, False, False, False,\n",
       "       False, False, False, False, False, False, False, False, False,\n",
       "       False, False, False, False, False, False, False, False, False,\n",
       "       False, False, False, False, False, False, False, False, False,\n",
       "       False, False, False, False, False, False, False, False, False,\n",
       "       False, False, False, False, False, False, False, False, False,\n",
       "       False, False,  True, False, False, False, False, False, False,\n",
       "       False, False, False, False, False, False, False, False, False,\n",
       "       False, False, False, False, False, False, False, False, False,\n",
       "       False, False, False, False, False, False, False, False, False,\n",
       "       False, False, False, False, False, False, False, False,  True,\n",
       "       False, False, False, False, False, False, False, False, False,\n",
       "       False, False, False, False, False, False, False, False, False,\n",
       "       False, False, False, False, False, False, False, False,  True,\n",
       "       False, False,  True,  True, False, False, False, False, False,\n",
       "       False, False, False, False, False, False, False, False, False,\n",
       "       False, False, False, False,  True, False, False, False, False,\n",
       "       False, False, False, False, False, False, False, False, False,\n",
       "       False, False, False, False, False, False, False, False, False,\n",
       "       False, False, False, False, False, False, False, False, False,\n",
       "       False, False, False, False, False, False, False, False, False,\n",
       "       False, False, False, False, False, False, False, False, False,\n",
       "       False,  True, False, False, False, False, False, False, False,\n",
       "       False, False, False, False, False, False, False, False, False,\n",
       "       False, False, False, False, False, False, False, False, False,\n",
       "       False, False, False, False, False, False, False, False, False,\n",
       "       False, False, False, False, False, False, False, False, False,\n",
       "       False])"
      ]
     },
     "execution_count": 349,
     "metadata": {},
     "output_type": "execute_result"
    }
   ],
   "source": [
    "a_cluster_mat[10] > 0"
   ]
  },
  {
   "cell_type": "code",
   "execution_count": null,
   "metadata": {},
   "outputs": [],
   "source": []
  },
  {
   "cell_type": "code",
   "execution_count": null,
   "metadata": {},
   "outputs": [],
   "source": []
  }
 ],
 "metadata": {
  "kernelspec": {
   "display_name": "cfml",
   "language": "python",
   "name": "python3"
  },
  "language_info": {
   "codemirror_mode": {
    "name": "ipython",
    "version": 3
   },
   "file_extension": ".py",
   "mimetype": "text/x-python",
   "name": "python",
   "nbconvert_exporter": "python",
   "pygments_lexer": "ipython3",
   "version": "3.9.5"
  }
 },
 "nbformat": 4,
 "nbformat_minor": 2
}
